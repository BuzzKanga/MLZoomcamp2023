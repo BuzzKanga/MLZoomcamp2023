{
 "cells": [
  {
   "cell_type": "code",
   "execution_count": 27,
   "id": "53e6da9e",
   "metadata": {},
   "outputs": [],
   "source": [
    "import pandas as pd\n",
    "import numpy as np\n",
    "import matplotlib as plt\n",
    "import seaborn as sns"
   ]
  },
  {
   "cell_type": "markdown",
   "id": "291da65d",
   "metadata": {},
   "source": [
    "**EDA**"
   ]
  },
  {
   "cell_type": "code",
   "execution_count": null,
   "id": "11e0c7c5",
   "metadata": {},
   "outputs": [],
   "source": [
    "# loda data\n",
    "# wget https://raw.githubusercontent.com/alexeygrigorev/datasets/master/housing.csv\n",
    "df = pd.read_csv ('data/housing.csv')\n",
    "df.shape"
   ]
  },
  {
   "cell_type": "code",
   "execution_count": null,
   "id": "40fa0682",
   "metadata": {},
   "outputs": [],
   "source": [
    "df.columns"
   ]
  },
  {
   "cell_type": "code",
   "execution_count": null,
   "id": "28cb4754",
   "metadata": {},
   "outputs": [],
   "source": [
    "sns.histplot(df['median_house_value'], bins=50)"
   ]
  },
  {
   "cell_type": "code",
   "execution_count": null,
   "id": "ce929878",
   "metadata": {},
   "outputs": [],
   "source": [
    "df"
   ]
  },
  {
   "cell_type": "code",
   "execution_count": null,
   "id": "b3e93539",
   "metadata": {},
   "outputs": [],
   "source": [
    "df = df[(df['ocean_proximity'] == '<1H OCEAN') | (df['ocean_proximity'] == 'INLAND')]\n",
    "df"
   ]
  },
  {
   "cell_type": "code",
   "execution_count": null,
   "id": "7de0072b",
   "metadata": {},
   "outputs": [],
   "source": [
    "df.shape"
   ]
  },
  {
   "cell_type": "code",
   "execution_count": null,
   "id": "509f4e93",
   "metadata": {},
   "outputs": [],
   "source": [
    "cols = ['latitude','longitude','housing_median_age','total_rooms','total_bedrooms','population','households','median_income','median_house_value']\n",
    "cols"
   ]
  },
  {
   "cell_type": "code",
   "execution_count": null,
   "id": "74138c8a",
   "metadata": {},
   "outputs": [],
   "source": [
    "df = df[cols]\n",
    "df"
   ]
  },
  {
   "cell_type": "markdown",
   "id": "f496ffc5",
   "metadata": {},
   "source": [
    "**1. Missing values**"
   ]
  },
  {
   "cell_type": "code",
   "execution_count": null,
   "id": "368782dd",
   "metadata": {},
   "outputs": [],
   "source": [
    "df.isnull().sum() "
   ]
  },
  {
   "cell_type": "code",
   "execution_count": null,
   "id": "4dec1c70",
   "metadata": {},
   "outputs": [],
   "source": [
    "print(df.columns[df.isna().any()].tolist())"
   ]
  },
  {
   "cell_type": "markdown",
   "id": "de55c62e",
   "metadata": {},
   "source": [
    "**2. Median**"
   ]
  },
  {
   "cell_type": "code",
   "execution_count": null,
   "id": "c4a349d0",
   "metadata": {},
   "outputs": [],
   "source": [
    "print(df.population.median())"
   ]
  },
  {
   "cell_type": "markdown",
   "id": "927fbdcb",
   "metadata": {},
   "source": [
    "**Prepare and split the dataset**"
   ]
  },
  {
   "cell_type": "code",
   "execution_count": null,
   "id": "f2bd1106",
   "metadata": {},
   "outputs": [],
   "source": [
    "# calculate how many rows for 60%, 20% and 20% split\n",
    "n = len(df)\n",
    "\n",
    "n_val = int(n * 0.2)\n",
    "n_test = int(n * 0.2)\n",
    "n_train = n - n_val - n_test"
   ]
  },
  {
   "cell_type": "code",
   "execution_count": null,
   "id": "9ef85ef7",
   "metadata": {},
   "outputs": [],
   "source": [
    "print('n=',n)\n",
    "print('n_val', n_val)\n",
    "print('n_test', n_test)\n",
    "print('n_train', n_train)\n",
    "print('total = ', n_val + n_test + n_train)"
   ]
  },
  {
   "cell_type": "code",
   "execution_count": null,
   "id": "62798dc5",
   "metadata": {},
   "outputs": [],
   "source": [
    "#split df into df_train (60%), df_val(20%) and df_test (20%)\n",
    "df_train = df.iloc[:n_train]\n",
    "df_val = df.iloc[n_train:n_train+n_val]\n",
    "df_test = df.iloc[n_train+n_val:]"
   ]
  },
  {
   "cell_type": "code",
   "execution_count": null,
   "id": "2e644a6b",
   "metadata": {},
   "outputs": [],
   "source": [
    "# create random index\n",
    "idx = np.arange(n)\n",
    "np.random.seed(42)\n",
    "np.random.shuffle(idx)"
   ]
  },
  {
   "cell_type": "code",
   "execution_count": null,
   "id": "fb4ffa71",
   "metadata": {},
   "outputs": [],
   "source": [
    "# select rows based on random index\n",
    "df_train = df.iloc[idx[:n_train]]\n",
    "df_val = df.iloc[idx[n_train:n_train+n_val]]\n",
    "df_test = df.iloc[idx[n_train+n_val:]]"
   ]
  },
  {
   "cell_type": "code",
   "execution_count": null,
   "id": "357185ff",
   "metadata": {},
   "outputs": [],
   "source": [
    "print('df_train', df_train.shape)\n",
    "print('df_val', df_val.shape)\n",
    "print('df_test', df_test.shape)"
   ]
  },
  {
   "cell_type": "code",
   "execution_count": null,
   "id": "c6b7b2ff",
   "metadata": {},
   "outputs": [],
   "source": [
    "df_train.head()"
   ]
  },
  {
   "cell_type": "code",
   "execution_count": null,
   "id": "9343a44f",
   "metadata": {},
   "outputs": [],
   "source": [
    "print('df_train', df_train.shape)\n",
    "print('df_val', df_val.shape)\n",
    "print('df_test', df_test.shape)"
   ]
  },
  {
   "cell_type": "code",
   "execution_count": null,
   "id": "8830ba55",
   "metadata": {},
   "outputs": [],
   "source": [
    "# reset index\n",
    "df_train = df_train.reset_index(drop=True)\n",
    "df_val = df_val.reset_index(drop=True)\n",
    "df_test = df_test.reset_index(drop=True)"
   ]
  },
  {
   "cell_type": "code",
   "execution_count": null,
   "id": "887ad3e1",
   "metadata": {},
   "outputs": [],
   "source": [
    "# populate y_train, y_val and y_test\n",
    "y_train = np.log1p(df_train.median_house_value.values)\n",
    "y_val = np.log1p(df_val.median_house_value.values)\n",
    "y_test = np.log1p(df_test.median_house_value.values)"
   ]
  },
  {
   "cell_type": "code",
   "execution_count": null,
   "id": "2b0406b0",
   "metadata": {},
   "outputs": [],
   "source": [
    "del df_train['median_house_value']\n",
    "del df_val['median_house_value']\n",
    "del df_test['median_house_value']"
   ]
  },
  {
   "cell_type": "markdown",
   "id": "07645cbe",
   "metadata": {},
   "source": [
    "**3. Missing values**"
   ]
  },
  {
   "cell_type": "code",
   "execution_count": null,
   "id": "26063eeb",
   "metadata": {},
   "outputs": [],
   "source": [
    "def load_df():\n",
    "    # loda data\n",
    "    # data = 'https://raw.githubusercontent.com/alexeygrigorev/mlbookcamp-code/master/chapter-02-car-price/data.csv'\n",
    "    # !wget $data\n",
    "    df = pd.read_csv ('data/housing.csv')\n",
    "    \n",
    "    return df"
   ]
  },
  {
   "cell_type": "code",
   "execution_count": null,
   "id": "578d18c4",
   "metadata": {},
   "outputs": [],
   "source": [
    "def prepare_df(df, fill):\n",
    "    df = df.copy()\n",
    "      \n",
    "    df = df[(df['ocean_proximity'] == '<1H OCEAN') | (df['ocean_proximity'] == 'INLAND')]\n",
    "        \n",
    "    cols = ['latitude','longitude','housing_median_age','total_rooms','total_bedrooms','population','households','median_income','median_house_value']\n",
    "    df = df[cols]\n",
    "    \n",
    "    df = df.fillna(fill)\n",
    "  \n",
    "    return df"
   ]
  },
  {
   "cell_type": "code",
   "execution_count": null,
   "id": "21dcb2f5",
   "metadata": {},
   "outputs": [],
   "source": [
    "def split_df(df):\n",
    "    # calculate how many rows for 60%, 20% and 20% split\n",
    "    n = len(df)\n",
    "    n_val = int(n * 0.2)\n",
    "    n_test = int(n * 0.2)\n",
    "    n_train = n - n_val - n_test\n",
    "    \n",
    "    # create random index\n",
    "    idx = np.arange(n)\n",
    "    np.random.seed(42)\n",
    "    np.random.shuffle(idx)\n",
    "    \n",
    "    # select rows based on random index\n",
    "    df_train = df.iloc[idx[:n_train]]\n",
    "    df_val = df.iloc[idx[n_train:n_train+n_val]]\n",
    "    df_test = df.iloc[idx[n_train+n_val:]]\n",
    "    \n",
    "    # reset index\n",
    "    df_train = df_train.reset_index(drop=True)\n",
    "    df_val = df_val.reset_index(drop=True)\n",
    "    df_test = df_test.reset_index(drop=True)\n",
    "        \n",
    "    # assign y values\n",
    "    y_train = np.log1p(df_train.median_house_value.values)\n",
    "    y_val = np.log1p(df_val.median_house_value.values)\n",
    "    y_test = np.log1p(df_test.median_house_value.values)\n",
    "    \n",
    "    # remove y from data frame\n",
    "    del df_train['median_house_value']\n",
    "    del df_val['median_house_value']\n",
    "    del df_test['median_house_value']\n",
    "    \n",
    "    # assign X values\n",
    "    X_train = df_train.values\n",
    "    X_val = df_val.values\n",
    "    X_test = df_test.values\n",
    "    \n",
    "    return X_train, X_val, X_test, y_train, y_val, y_test"
   ]
  },
  {
   "cell_type": "code",
   "execution_count": null,
   "id": "3b1b1c05",
   "metadata": {},
   "outputs": [],
   "source": [
    "def train_linear_regression(X, y):\n",
    "    ones = np.ones(X.shape[0])\n",
    "    X = np.column_stack([ones, X])\n",
    "\n",
    "    XTX = X.T.dot(X)\n",
    "    XTX_inv = np.linalg.inv(XTX)\n",
    "    w_full = XTX_inv.dot(X.T).dot(y)\n",
    "    \n",
    "    return w_full[0], w_full[1:]"
   ]
  },
  {
   "cell_type": "code",
   "execution_count": null,
   "id": "70612c15",
   "metadata": {},
   "outputs": [],
   "source": [
    "# RMSE\n",
    "def rmse(y, y_pred):\n",
    "    se = (y - y_pred) ** 2\n",
    "    mse = se.mean()\n",
    "    return np.sqrt(mse)"
   ]
  },
  {
   "cell_type": "markdown",
   "id": "39e79699",
   "metadata": {},
   "source": [
    "*3.1 Fill missing vales with zero*"
   ]
  },
  {
   "cell_type": "code",
   "execution_count": null,
   "id": "ca8964e9",
   "metadata": {},
   "outputs": [],
   "source": [
    "df = load_df()"
   ]
  },
  {
   "cell_type": "code",
   "execution_count": null,
   "id": "5139285e",
   "metadata": {},
   "outputs": [],
   "source": [
    "# fillna with 0\n",
    "df = prepare_df(df, 0)"
   ]
  },
  {
   "cell_type": "code",
   "execution_count": null,
   "id": "50db3bc9",
   "metadata": {},
   "outputs": [],
   "source": [
    "# split dataframe into train, test and val datasets\n",
    "X_train, X_val, X_test, y_train, y_val, y_test = split_df(df)"
   ]
  },
  {
   "cell_type": "code",
   "execution_count": null,
   "id": "387c2d7a",
   "metadata": {},
   "outputs": [],
   "source": [
    "# train model\n",
    "w0, w = train_linear_regression(X_train, y_train)\n",
    "\n",
    "y_pred = w0 + X_train.dot(w)"
   ]
  },
  {
   "cell_type": "code",
   "execution_count": null,
   "id": "e03a9157",
   "metadata": {},
   "outputs": [],
   "source": [
    "# calculate train RMSE\n",
    "with_zero = round(rmse(y_train, y_pred),2)\n",
    "with_zero"
   ]
  },
  {
   "cell_type": "markdown",
   "id": "f94a749c",
   "metadata": {},
   "source": [
    "*3.2 Fill missing vales with mean*"
   ]
  },
  {
   "cell_type": "code",
   "execution_count": null,
   "id": "1cb52be7",
   "metadata": {},
   "outputs": [],
   "source": [
    "df = load_df()"
   ]
  },
  {
   "cell_type": "code",
   "execution_count": null,
   "id": "506f5a30",
   "metadata": {},
   "outputs": [],
   "source": [
    "# store mean for use later\n",
    "mean = df_train.total_bedrooms.mean()\n",
    "mean"
   ]
  },
  {
   "cell_type": "code",
   "execution_count": null,
   "id": "f8239a5c",
   "metadata": {},
   "outputs": [],
   "source": [
    "# fillna with mean\n",
    "df = prepare_df(df, mean)"
   ]
  },
  {
   "cell_type": "code",
   "execution_count": null,
   "id": "436c428d",
   "metadata": {},
   "outputs": [],
   "source": [
    "# split dataframe into train, test and val datasets\n",
    "X_train, X_val, X_test, y_train, y_val, y_test = split_df(df)"
   ]
  },
  {
   "cell_type": "code",
   "execution_count": null,
   "id": "b081aa17",
   "metadata": {},
   "outputs": [],
   "source": [
    "# train model\n",
    "w0, w = train_linear_regression(X_train, y_train)\n",
    "\n",
    "y_pred = w0 + X_train.dot(w)"
   ]
  },
  {
   "cell_type": "code",
   "execution_count": null,
   "id": "6ad53ca4",
   "metadata": {},
   "outputs": [],
   "source": [
    "# calculate train RMSE\n",
    "with_mean = round(rmse(y_train, y_pred),2)\n",
    "with_mean"
   ]
  },
  {
   "cell_type": "markdown",
   "id": "b8c4e000",
   "metadata": {},
   "source": [
    "**4: Regularization**"
   ]
  },
  {
   "cell_type": "code",
   "execution_count": null,
   "id": "18135f56",
   "metadata": {},
   "outputs": [],
   "source": [
    "def load_df():\n",
    "    # loda data\n",
    "    # data = 'https://raw.githubusercontent.com/alexeygrigorev/mlbookcamp-code/master/chapter-02-car-price/data.csv'\n",
    "    # !wget $data\n",
    "    df = pd.read_csv ('data/housing.csv')\n",
    "    \n",
    "    return df"
   ]
  },
  {
   "cell_type": "code",
   "execution_count": null,
   "id": "e72ecab7",
   "metadata": {},
   "outputs": [],
   "source": [
    "def prepare_df(df_all, fill):\n",
    "    # df = df.copy()\n",
    "    \n",
    "    df = df_all[(df_all['ocean_proximity'] == '<1H OCEAN') | (df_all['ocean_proximity'] == 'INLAND')]\n",
    "        \n",
    "    cols = ['latitude','longitude','housing_median_age','total_rooms','total_bedrooms','population','households','median_income','median_house_value']\n",
    "    # df = df[cols]\n",
    "  \n",
    "    df = df[cols]\n",
    "    df = df.fillna(fill)\n",
    "    # X = df_num.values\n",
    "\n",
    "    return df"
   ]
  },
  {
   "cell_type": "code",
   "execution_count": null,
   "id": "093d1b8e",
   "metadata": {},
   "outputs": [],
   "source": [
    "def split_df(df):\n",
    "    # calculate how many rows for 60%, 20% and 20% split\n",
    "    n = len(df)\n",
    "    n_val = int(n * 0.2)\n",
    "    n_test = int(n * 0.2)\n",
    "    n_train = n - n_val - n_test\n",
    "    \n",
    "    # create random index\n",
    "    idx = np.arange(n)\n",
    "    np.random.seed(42)\n",
    "    np.random.shuffle(idx)\n",
    "    \n",
    "    # select rows based on random index\n",
    "    df_train = df.iloc[idx[:n_train]]\n",
    "    df_val = df.iloc[idx[n_train:n_train+n_val]]\n",
    "    df_test = df.iloc[idx[n_train+n_val:]]\n",
    "    \n",
    "    # reset index\n",
    "    df_train = df_train.reset_index(drop=True)\n",
    "    df_val = df_val.reset_index(drop=True)\n",
    "    df_test = df_test.reset_index(drop=True)\n",
    "        \n",
    "    # assign y values\n",
    "    y_train = np.log1p(df_train.median_house_value.values)\n",
    "    y_val = np.log1p(df_val.median_house_value.values)\n",
    "    y_test = np.log1p(df_test.median_house_value.values)\n",
    "    \n",
    "    # remove y from data frame\n",
    "    del df_train['median_house_value']\n",
    "    del df_val['median_house_value']\n",
    "    del df_test['median_house_value']\n",
    "    \n",
    "    # assign X values\n",
    "    # X_train = df_train.values\n",
    "    # X_val = df_val.values\n",
    "    # X_test = df_test.values\n",
    "    \n",
    "    return df_train, df_val, df_test, y_train, y_val, y_test"
   ]
  },
  {
   "cell_type": "code",
   "execution_count": null,
   "id": "5e06615c",
   "metadata": {},
   "outputs": [],
   "source": [
    "# update linera regression to add small value r along diagonal values of XTX\n",
    "\n",
    "def train_linear_regression(X, y, r):\n",
    "    ones = np.ones(X.shape[0])\n",
    "    X = np.column_stack([ones, X])\n",
    "\n",
    "    XTX = X.T.dot(X)\n",
    "    reg = r * np.eye(XTX.shape[0])\n",
    "    XTX = XTX + reg\n",
    "       \n",
    "    XTX_inv = np.linalg.inv(XTX)\n",
    "    w = XTX_inv.dot(X.T).dot(y)\n",
    "    \n",
    "    return w[0], w[1:]"
   ]
  },
  {
   "cell_type": "code",
   "execution_count": null,
   "id": "658e03d2",
   "metadata": {},
   "outputs": [],
   "source": [
    "# RMSE\n",
    "def rmse(y, y_pred):\n",
    "    se = (y - y_pred) ** 2\n",
    "    mse = se.mean()\n",
    "    return np.sqrt(mse)"
   ]
  },
  {
   "cell_type": "code",
   "execution_count": null,
   "id": "74e04ae5",
   "metadata": {},
   "outputs": [],
   "source": [
    "df_all = load_df()"
   ]
  },
  {
   "cell_type": "code",
   "execution_count": null,
   "id": "32fead3e",
   "metadata": {},
   "outputs": [],
   "source": [
    "df = prepare_df(df_all, 0)"
   ]
  },
  {
   "cell_type": "code",
   "execution_count": null,
   "id": "0673a4ce",
   "metadata": {},
   "outputs": [],
   "source": [
    "# split dataframe into train, test and val datasets\n",
    "df_train, df_val, df_test, y_train, y_val, y_test = split_df(df)"
   ]
  },
  {
   "cell_type": "code",
   "execution_count": null,
   "id": "7b54295d",
   "metadata": {},
   "outputs": [],
   "source": [
    "# train model\n",
    "X_train = df_train.values\n",
    "X_val = df_val.values\n",
    "\n",
    "for r in [0.0, 0.00001, 0.0001, 0.001, 0.1, 1, 10]:\n",
    "    w0, w = train_linear_regression(X_train, y_train, r=r)\n",
    "    \n",
    "    y_pred = w0 + X_val.dot(w)\n",
    "    score = rmse(y_val, y_pred)\n",
    "    \n",
    "    print(r, w0, score)"
   ]
  },
  {
   "cell_type": "markdown",
   "id": "3446a886",
   "metadata": {},
   "source": [
    "**5.  Shuffling**"
   ]
  },
  {
   "cell_type": "code",
   "execution_count": 28,
   "id": "62787806",
   "metadata": {},
   "outputs": [],
   "source": [
    "def load_df():\n",
    "    # loda data\n",
    "    # data = 'https://raw.githubusercontent.com/alexeygrigorev/mlbookcamp-code/master/chapter-02-car-price/data.csv'\n",
    "    # !wget $data\n",
    "    df = pd.read_csv ('data/housing.csv')\n",
    "    \n",
    "    return df"
   ]
  },
  {
   "cell_type": "code",
   "execution_count": 29,
   "id": "d4c30b2f",
   "metadata": {},
   "outputs": [],
   "source": [
    "def prepare_df(df_all, fill):\n",
    "    # df = df.copy()\n",
    "    \n",
    "    df = df_all[(df_all['ocean_proximity'] == '<1H OCEAN') | (df_all['ocean_proximity'] == 'INLAND')]\n",
    "        \n",
    "    cols = ['latitude','longitude','housing_median_age','total_rooms','total_bedrooms','population','households','median_income','median_house_value']\n",
    "    # df = df[cols]\n",
    "  \n",
    "    df = df[cols]\n",
    "    df = df.fillna(fill)\n",
    "    # X = df_num.values\n",
    "\n",
    "    return df"
   ]
  },
  {
   "cell_type": "code",
   "execution_count": 30,
   "id": "541b9dff",
   "metadata": {},
   "outputs": [],
   "source": [
    "def split_df(df, seed):\n",
    "    # calculate how many rows for 60%, 20% and 20% split\n",
    "    n = len(df)\n",
    "    n_val = int(n * 0.2)\n",
    "    n_test = int(n * 0.2)\n",
    "    n_train = n - n_val - n_test\n",
    "    \n",
    "    # create random index\n",
    "    idx = np.arange(n)\n",
    "    np.random.seed(seed)\n",
    "    np.random.shuffle(idx)\n",
    "    \n",
    "    # select rows based on random index\n",
    "    df_train = df.iloc[idx[:n_train]]\n",
    "    df_val = df.iloc[idx[n_train:n_train+n_val]]\n",
    "    df_test = df.iloc[idx[n_train+n_val:]]\n",
    "    \n",
    "    # reset index\n",
    "    df_train = df_train.reset_index(drop=True)\n",
    "    df_val = df_val.reset_index(drop=True)\n",
    "    df_test = df_test.reset_index(drop=True)\n",
    "        \n",
    "    # assign y values\n",
    "    y_train = np.log1p(df_train.median_house_value.values)\n",
    "    y_val = np.log1p(df_val.median_house_value.values)\n",
    "    y_test = np.log1p(df_test.median_house_value.values)\n",
    "    \n",
    "    # remove y from data frame\n",
    "    del df_train['median_house_value']\n",
    "    del df_val['median_house_value']\n",
    "    del df_test['median_house_value']\n",
    "    \n",
    "    # assign X values\n",
    "    # X_train = df_train.values\n",
    "    # X_val = df_val.values\n",
    "    # X_test = df_test.values\n",
    "    \n",
    "    return df_train, df_val, df_test, y_train, y_val, y_test"
   ]
  },
  {
   "cell_type": "code",
   "execution_count": 31,
   "id": "460fbed3",
   "metadata": {},
   "outputs": [],
   "source": [
    "def train_linear_regression(X, y):\n",
    "    # ones = np.ones(X.shape[0])\n",
    "    # X = np.column_stack([ones, X])\n",
    "\n",
    "    XTX = X.T.dot(X)\n",
    "    # XTX = XTX + r * np.eye(XTX.shape[0])\n",
    "       \n",
    "    XTX_inv = np.linalg.inv(XTX)\n",
    "    w_full = XTX_inv.dot(X.T).dot(y)\n",
    "    \n",
    "    return w_full[0], w_full[1:]"
   ]
  },
  {
   "cell_type": "code",
   "execution_count": 32,
   "id": "b979dee5",
   "metadata": {},
   "outputs": [],
   "source": [
    "# RMSE\n",
    "def rmse(y, y_pred):\n",
    "    se = (y - y_pred) ** 2\n",
    "    mse = se.mean()\n",
    "    return np.sqrt(mse)"
   ]
  },
  {
   "cell_type": "code",
   "execution_count": 33,
   "id": "929b881e",
   "metadata": {},
   "outputs": [],
   "source": [
    "df_all = load_df()"
   ]
  },
  {
   "cell_type": "code",
   "execution_count": 34,
   "id": "c50b9905",
   "metadata": {},
   "outputs": [],
   "source": [
    "df = prepare_df(df_all, 0)"
   ]
  },
  {
   "cell_type": "code",
   "execution_count": 38,
   "id": "37946c0f",
   "metadata": {},
   "outputs": [
    {
     "name": "stdout",
     "output_type": "stream",
     "text": [
      "0 -0.4381172315677186 [0.3453699489452713]\n",
      "1 -0.4381172315677186 [0.3453699489452713, 0.34631637474686067]\n",
      "2 -0.4381172315677186 [0.3453699489452713, 0.34631637474686067, 0.34655766545040345]\n",
      "3 -0.4381172315677186 [0.3453699489452713, 0.34631637474686067, 0.34655766545040345, 0.33864362370327566]\n",
      "4 -0.4381172315677186 [0.3453699489452713, 0.34631637474686067, 0.34655766545040345, 0.33864362370327566, 0.34764384003919324]\n",
      "5 -0.4381172315677186 [0.3453699489452713, 0.34631637474686067, 0.34655766545040345, 0.33864362370327566, 0.34764384003919324, 0.3477260175521713]\n",
      "6 -0.4381172315677186 [0.3453699489452713, 0.34631637474686067, 0.34655766545040345, 0.33864362370327566, 0.34764384003919324, 0.3477260175521713, 0.34196295955962464]\n",
      "7 -0.4381172315677186 [0.3453699489452713, 0.34631637474686067, 0.34655766545040345, 0.33864362370327566, 0.34764384003919324, 0.3477260175521713, 0.34196295955962464, 0.350767655885401]\n",
      "8 -0.4381172315677186 [0.3453699489452713, 0.34631637474686067, 0.34655766545040345, 0.33864362370327566, 0.34764384003919324, 0.3477260175521713, 0.34196295955962464, 0.350767655885401, 0.3585950733866785]\n",
      "9 -0.4381172315677186 [0.3453699489452713, 0.34631637474686067, 0.34655766545040345, 0.33864362370327566, 0.34764384003919324, 0.3477260175521713, 0.34196295955962464, 0.350767655885401, 0.3585950733866785, 0.3397364795771214]\n"
     ]
    }
   ],
   "source": [
    "score = []\n",
    "for seed in [0, 1, 2, 3, 4, 5, 6, 7, 8, 9]:\n",
    "    df_all = load_df()\n",
    "    df = prepare_df(df_all, 0)\n",
    "    df_train, df_val, df_test, y_train, y_val, y_test = split_df(df, seed)\n",
    "    \n",
    "    # train model\n",
    "    X_train = df_train.values\n",
    "    X_val = df_val.values\n",
    "    \n",
    "    y_pred = w0 + X_val.dot(w)\n",
    "    score.append(rmse(y_val, y_pred))\n",
    "    \n",
    "    print(seed, w0, score)\n",
    "    "
   ]
  },
  {
   "cell_type": "code",
   "execution_count": 44,
   "id": "8bf565e5",
   "metadata": {},
   "outputs": [
    {
     "data": {
      "text/plain": [
       "0.005"
      ]
     },
     "execution_count": 44,
     "metadata": {},
     "output_type": "execute_result"
    }
   ],
   "source": [
    "round(np.array(score).std(),3)"
   ]
  },
  {
   "cell_type": "markdown",
   "id": "d17999cc",
   "metadata": {},
   "source": [
    "**6. RMSE on test**"
   ]
  },
  {
   "cell_type": "code",
   "execution_count": 45,
   "id": "57efa1aa",
   "metadata": {},
   "outputs": [],
   "source": [
    "def load_df():\n",
    "    # loda data\n",
    "    # data = 'https://raw.githubusercontent.com/alexeygrigorev/mlbookcamp-code/master/chapter-02-car-price/data.csv'\n",
    "    # !wget $data\n",
    "    df = pd.read_csv ('data/housing.csv')\n",
    "    \n",
    "    return df"
   ]
  },
  {
   "cell_type": "code",
   "execution_count": 46,
   "id": "32d57c45",
   "metadata": {},
   "outputs": [],
   "source": [
    "def prepare_df(df_all, fill):\n",
    "    # df = df.copy()\n",
    "    \n",
    "    df = df_all[(df_all['ocean_proximity'] == '<1H OCEAN') | (df_all['ocean_proximity'] == 'INLAND')]\n",
    "        \n",
    "    cols = ['latitude','longitude','housing_median_age','total_rooms','total_bedrooms','population','households','median_income','median_house_value']\n",
    "    # df = df[cols]\n",
    "  \n",
    "    df = df[cols]\n",
    "    df = df.fillna(fill)\n",
    "    # X = df_num.values\n",
    "\n",
    "    return df"
   ]
  },
  {
   "cell_type": "code",
   "execution_count": 47,
   "id": "a24083c7",
   "metadata": {},
   "outputs": [],
   "source": [
    "def split_df(df):\n",
    "    # calculate how many rows for 60%, 20% and 20% split\n",
    "    n = len(df)\n",
    "    n_val = int(n * 0.2)\n",
    "    n_test = int(n * 0.2)\n",
    "    n_train = n - n_val - n_test\n",
    "    \n",
    "    # create random index\n",
    "    idx = np.arange(n)\n",
    "    np.random.seed(9)\n",
    "    np.random.shuffle(idx)\n",
    "    \n",
    "    # select rows based on random index\n",
    "    df_train = df.iloc[idx[:n_train]]\n",
    "    df_val = df.iloc[idx[n_train:n_train+n_val]]\n",
    "    df_test = df.iloc[idx[n_train+n_val:]]\n",
    "    \n",
    "    # reset index\n",
    "    df_train = df_train.reset_index(drop=True)\n",
    "    df_val = df_val.reset_index(drop=True)\n",
    "    df_test = df_test.reset_index(drop=True)\n",
    "        \n",
    "    # assign y values\n",
    "    y_train = np.log1p(df_train.median_house_value.values)\n",
    "    y_val = np.log1p(df_val.median_house_value.values)\n",
    "    y_test = np.log1p(df_test.median_house_value.values)\n",
    "    \n",
    "    # remove y from data frame\n",
    "    del df_train['median_house_value']\n",
    "    del df_val['median_house_value']\n",
    "    del df_test['median_house_value']\n",
    "    \n",
    "    # assign X values\n",
    "    # X_train = df_train.values\n",
    "    # X_val = df_val.values\n",
    "    # X_test = df_test.values\n",
    "    \n",
    "    return df_train, df_val, df_test, y_train, y_val, y_test"
   ]
  },
  {
   "cell_type": "code",
   "execution_count": 48,
   "id": "46a50ae1",
   "metadata": {},
   "outputs": [],
   "source": [
    "# update linera regression to add small value r along diagonal values of XTX\n",
    "\n",
    "def train_linear_regression(X, y, r):\n",
    "    ones = np.ones(X.shape[0])\n",
    "    X = np.column_stack([ones, X])\n",
    "\n",
    "    XTX = X.T.dot(X)\n",
    "    reg = r * np.eye(XTX.shape[0])\n",
    "    XTX = XTX + reg\n",
    "       \n",
    "    XTX_inv = np.linalg.inv(XTX)\n",
    "    w = XTX_inv.dot(X.T).dot(y)\n",
    "    \n",
    "    return w[0], w[1:]"
   ]
  },
  {
   "cell_type": "code",
   "execution_count": 49,
   "id": "6537ac7b",
   "metadata": {},
   "outputs": [],
   "source": [
    "# RMSE\n",
    "def rmse(y, y_pred):\n",
    "    se = (y - y_pred) ** 2\n",
    "    mse = se.mean()\n",
    "    return np.sqrt(mse)"
   ]
  },
  {
   "cell_type": "code",
   "execution_count": 50,
   "id": "bfcd4d00",
   "metadata": {},
   "outputs": [],
   "source": [
    "df_all = load_df()"
   ]
  },
  {
   "cell_type": "code",
   "execution_count": 51,
   "id": "32644187",
   "metadata": {},
   "outputs": [],
   "source": [
    "df = prepare_df(df_all, 0)"
   ]
  },
  {
   "cell_type": "code",
   "execution_count": 52,
   "id": "563deb27",
   "metadata": {},
   "outputs": [],
   "source": [
    "# split dataframe into train, test and val datasets\n",
    "df_train, df_val, df_test, y_train, y_val, y_test = split_df(df)"
   ]
  },
  {
   "cell_type": "code",
   "execution_count": 57,
   "id": "29c712d0",
   "metadata": {},
   "outputs": [
    {
     "name": "stdout",
     "output_type": "stream",
     "text": [
      "0.33\n"
     ]
    }
   ],
   "source": [
    "# train model\n",
    "df_merged = pd.concat([df_train, df_val], axis=0)\n",
    "y_merged = np.concatenate((y_train, y_val))\n",
    "\n",
    "X_merged = df_merged.values\n",
    "X_test = df_test.values\n",
    "\n",
    "w0, w = train_linear_regression(X_merged, y_merged, r=0.001)\n",
    "\n",
    "y_pred = w0 + X_test.dot(w)\n",
    "score = rmse(y_test, y_pred)\n",
    "\n",
    "print(round(score,2))"
   ]
  }
 ],
 "metadata": {
  "kernelspec": {
   "display_name": "Python 3 (ipykernel)",
   "language": "python",
   "name": "python3"
  },
  "language_info": {
   "codemirror_mode": {
    "name": "ipython",
    "version": 3
   },
   "file_extension": ".py",
   "mimetype": "text/x-python",
   "name": "python",
   "nbconvert_exporter": "python",
   "pygments_lexer": "ipython3",
   "version": "3.11.5"
  }
 },
 "nbformat": 4,
 "nbformat_minor": 5
}
