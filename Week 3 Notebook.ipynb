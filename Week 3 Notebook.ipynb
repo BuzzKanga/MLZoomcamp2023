{
 "cells": [
  {
   "cell_type": "markdown",
   "id": "17fd9f12",
   "metadata": {},
   "source": [
    "**Setup**"
   ]
  },
  {
   "cell_type": "code",
   "execution_count": 161,
   "id": "ef582d18",
   "metadata": {},
   "outputs": [],
   "source": [
    "import pandas as pd\n",
    "import numpy as np\n",
    "from sklearn.model_selection import train_test_split\n",
    "from sklearn.metrics import mutual_info_score\n",
    "from sklearn.metrics import accuracy_score\n",
    "from sklearn.metrics import mean_squared_error\n",
    "from sklearn.feature_extraction import DictVectorizer\n",
    "from sklearn.linear_model import LogisticRegression\n",
    "from sklearn.linear_model import Ridge\n",
    "from sklearn.preprocessing import StandardScaler\n",
    "from sklearn.preprocessing import MinMaxScaler\n",
    "from sklearn.preprocessing import OneHotEncoder"
   ]
  },
  {
   "cell_type": "code",
   "execution_count": 84,
   "id": "9d316995",
   "metadata": {},
   "outputs": [
    {
     "name": "stdout",
     "output_type": "stream",
     "text": [
      "hello\n"
     ]
    }
   ],
   "source": [
    "print('hello')"
   ]
  },
  {
   "cell_type": "code",
   "execution_count": 85,
   "id": "ae7349ad",
   "metadata": {},
   "outputs": [],
   "source": [
    "# copy data into local data driectory\n",
    "# !wget -O ./data/car_data.csv https://raw.githubusercontent.com/alexeygrigorev/mlbookcamp-code/master/chapter-02-car-price/data.csv"
   ]
  },
  {
   "cell_type": "code",
   "execution_count": 86,
   "id": "3ac8f570",
   "metadata": {},
   "outputs": [
    {
     "data": {
      "text/plain": [
       "(11914, 16)"
      ]
     },
     "execution_count": 86,
     "metadata": {},
     "output_type": "execute_result"
    }
   ],
   "source": [
    "# load data into pandas dataframe\n",
    "df = pd.read_csv ('data/car_data.csv')\n",
    "df.shape"
   ]
  },
  {
   "cell_type": "code",
   "execution_count": 87,
   "id": "4ed0c558",
   "metadata": {},
   "outputs": [
    {
     "data": {
      "text/plain": [
       "Index(['Make', 'Model', 'Year', 'Engine Fuel Type', 'Engine HP',\n",
       "       'Engine Cylinders', 'Transmission Type', 'Driven_Wheels',\n",
       "       'Number of Doors', 'Market Category', 'Vehicle Size', 'Vehicle Style',\n",
       "       'highway MPG', 'city mpg', 'Popularity', 'MSRP'],\n",
       "      dtype='object')"
      ]
     },
     "execution_count": 87,
     "metadata": {},
     "output_type": "execute_result"
    }
   ],
   "source": [
    "# list original columns\n",
    "df.columns"
   ]
  },
  {
   "cell_type": "code",
   "execution_count": 88,
   "id": "3facf669",
   "metadata": {},
   "outputs": [
    {
     "data": {
      "text/plain": [
       "(11914, 10)"
      ]
     },
     "execution_count": 88,
     "metadata": {},
     "output_type": "execute_result"
    }
   ],
   "source": [
    "# select only key columns\n",
    "cols=['Make', 'Model', 'Year', 'Engine HP', 'Engine Cylinders', \n",
    "      'Transmission Type', 'Vehicle Style','highway MPG', 'city mpg', 'MSRP']\n",
    "\n",
    "df = df[cols]\n",
    "df.shape"
   ]
  },
  {
   "cell_type": "code",
   "execution_count": 89,
   "id": "9666908c",
   "metadata": {},
   "outputs": [
    {
     "data": {
      "text/plain": [
       "Index(['make', 'model', 'year', 'engine_hp', 'engine_cylinders',\n",
       "       'transmission_type', 'vehicle_style', 'highway_mpg', 'city_mpg',\n",
       "       'msrp'],\n",
       "      dtype='object')"
      ]
     },
     "execution_count": 89,
     "metadata": {},
     "output_type": "execute_result"
    }
   ],
   "source": [
    "# format column names\n",
    "df.columns = df.columns.str.replace(' ', '_').str.lower()\n",
    "df.columns"
   ]
  },
  {
   "cell_type": "code",
   "execution_count": 90,
   "id": "eebb6a88",
   "metadata": {},
   "outputs": [
    {
     "data": {
      "text/plain": [
       "Index(['make', 'model', 'year', 'engine_hp', 'engine_cylinders',\n",
       "       'transmission_type', 'vehicle_style', 'highway_mpg', 'city_mpg',\n",
       "       'price'],\n",
       "      dtype='object')"
      ]
     },
     "execution_count": 90,
     "metadata": {},
     "output_type": "execute_result"
    }
   ],
   "source": [
    "# rename msrp to price\n",
    "df.rename(columns={\"msrp\": \"price\"}, inplace=True)\n",
    "df.columns"
   ]
  },
  {
   "cell_type": "code",
   "execution_count": 91,
   "id": "d16349ae",
   "metadata": {},
   "outputs": [
    {
     "data": {
      "text/plain": [
       "(11914, 10)"
      ]
     },
     "execution_count": 91,
     "metadata": {},
     "output_type": "execute_result"
    }
   ],
   "source": [
    "df.shape"
   ]
  },
  {
   "cell_type": "code",
   "execution_count": 92,
   "id": "2e5a55f1",
   "metadata": {},
   "outputs": [
    {
     "name": "stdout",
     "output_type": "stream",
     "text": [
      "values before:\n",
      " make                  0\n",
      "model                 0\n",
      "year                  0\n",
      "engine_hp            69\n",
      "engine_cylinders     30\n",
      "transmission_type     0\n",
      "vehicle_style         0\n",
      "highway_mpg           0\n",
      "city_mpg              0\n",
      "price                 0\n",
      "dtype: int64\n"
     ]
    }
   ],
   "source": [
    "# fill missing values with 0\n",
    "print('values before:\\n', df.isnull().sum()) \n",
    "df = df.fillna(0)"
   ]
  },
  {
   "cell_type": "code",
   "execution_count": 93,
   "id": "b5fd3494",
   "metadata": {},
   "outputs": [
    {
     "data": {
      "text/plain": [
       "(11914, 10)"
      ]
     },
     "execution_count": 93,
     "metadata": {},
     "output_type": "execute_result"
    }
   ],
   "source": [
    "# make a copy of data in case required to be restored later\n",
    "df_copy = df.copy()\n",
    "df_copy.shape"
   ]
  },
  {
   "cell_type": "markdown",
   "id": "d3bdea50",
   "metadata": {},
   "source": [
    "**1: Most frequent value for `transmission_type`**"
   ]
  },
  {
   "cell_type": "code",
   "execution_count": 94,
   "id": "3397762e",
   "metadata": {},
   "outputs": [
    {
     "data": {
      "text/plain": [
       "8266"
      ]
     },
     "execution_count": 94,
     "metadata": {},
     "output_type": "execute_result"
    }
   ],
   "source": [
    "df['transmission_type'].value_counts().max()"
   ]
  },
  {
   "cell_type": "markdown",
   "id": "01f194bd",
   "metadata": {},
   "source": [
    "**2: Features with biggest correlation**"
   ]
  },
  {
   "cell_type": "code",
   "execution_count": 95,
   "id": "422a3d50",
   "metadata": {},
   "outputs": [
    {
     "name": "stdout",
     "output_type": "stream",
     "text": [
      "correlation engine_hp and year: 0.3387\n",
      "correlation engine_hp and engine_cylinders: 0.7749\n",
      "correlation highway_mpg and engine_cylinders: -0.6145\n",
      "correlation highway_mpg and city_mpg: 0.8868\n"
     ]
    }
   ],
   "source": [
    "print('correlation engine_hp and year:', df.engine_hp.corr(df.year).round(4))\n",
    "print('correlation engine_hp and engine_cylinders:', df.engine_hp.corr(df.engine_cylinders).round(4))\n",
    "print('correlation highway_mpg and engine_cylinders:', df.highway_mpg.corr(df.engine_cylinders).round(4))\n",
    "print('correlation highway_mpg and city_mpg:', df.highway_mpg.corr(df.city_mpg).round(4))"
   ]
  },
  {
   "cell_type": "markdown",
   "id": "0de9649e",
   "metadata": {},
   "source": [
    "*Make price binary*"
   ]
  },
  {
   "cell_type": "code",
   "execution_count": 96,
   "id": "94a896ad",
   "metadata": {},
   "outputs": [
    {
     "data": {
      "text/plain": [
       "40594.737032063116"
      ]
     },
     "execution_count": 96,
     "metadata": {},
     "output_type": "execute_result"
    }
   ],
   "source": [
    "mean = df.price.mean()\n",
    "mean"
   ]
  },
  {
   "cell_type": "code",
   "execution_count": 97,
   "id": "84002546",
   "metadata": {},
   "outputs": [],
   "source": [
    "df['price'] = (df['price'] > mean).astype(int)"
   ]
  },
  {
   "cell_type": "code",
   "execution_count": 98,
   "id": "938eb1f8",
   "metadata": {},
   "outputs": [],
   "source": [
    "df.rename(columns={\"price\": \"above_average\"}, inplace=True)"
   ]
  },
  {
   "cell_type": "markdown",
   "id": "7ad0a4a9",
   "metadata": {},
   "source": [
    "*Split the data*"
   ]
  },
  {
   "cell_type": "code",
   "execution_count": 99,
   "id": "305dc359",
   "metadata": {},
   "outputs": [],
   "source": [
    "# setup train/validation/test split with Scikit-Learn\n",
    "df_full_train, df_test = train_test_split(df, test_size=0.2, random_state=42)\n",
    "df_train, df_val = train_test_split(df_full_train, test_size=0.25, random_state=42)"
   ]
  },
  {
   "cell_type": "code",
   "execution_count": 100,
   "id": "763e2f03",
   "metadata": {
    "scrolled": true
   },
   "outputs": [
    {
     "data": {
      "text/plain": [
       "(7148, 2383, 2383)"
      ]
     },
     "execution_count": 100,
     "metadata": {},
     "output_type": "execute_result"
    }
   ],
   "source": [
    "len(df_train), len(df_val), len(df_test)"
   ]
  },
  {
   "cell_type": "code",
   "execution_count": 101,
   "id": "66e274f4",
   "metadata": {},
   "outputs": [],
   "source": [
    "df_train = df_train.reset_index(drop=True)\n",
    "df_val = df_val.reset_index(drop=True)\n",
    "df_test = df_test.reset_index(drop=True)"
   ]
  },
  {
   "cell_type": "code",
   "execution_count": 102,
   "id": "520dc82f",
   "metadata": {},
   "outputs": [],
   "source": [
    "y_train = df_train.above_average.values\n",
    "y_val = df_val.above_average.values\n",
    "y_test = df_test.above_average.values\n",
    "\n",
    "del df_train['above_average']\n",
    "del df_val['above_average']\n",
    "del df_test['above_average']"
   ]
  },
  {
   "cell_type": "markdown",
   "id": "328ac97c",
   "metadata": {},
   "source": [
    "**3: Feature with the lowest mutual information score**"
   ]
  },
  {
   "cell_type": "code",
   "execution_count": 103,
   "id": "1977aae6",
   "metadata": {},
   "outputs": [
    {
     "data": {
      "text/plain": [
       "make                  object\n",
       "model                 object\n",
       "year                   int64\n",
       "engine_hp            float64\n",
       "engine_cylinders     float64\n",
       "transmission_type     object\n",
       "vehicle_style         object\n",
       "highway_mpg            int64\n",
       "city_mpg               int64\n",
       "above_average          int64\n",
       "dtype: object"
      ]
     },
     "execution_count": 103,
     "metadata": {},
     "output_type": "execute_result"
    }
   ],
   "source": [
    "df.dtypes"
   ]
  },
  {
   "cell_type": "code",
   "execution_count": 104,
   "id": "57e8e77d",
   "metadata": {},
   "outputs": [
    {
     "data": {
      "text/plain": [
       "['make', 'model', 'transmission_type', 'vehicle_style']"
      ]
     },
     "execution_count": 104,
     "metadata": {},
     "output_type": "execute_result"
    }
   ],
   "source": [
    "cat = list(df.dtypes[df.dtypes == 'object'].index)\n",
    "cat"
   ]
  },
  {
   "cell_type": "code",
   "execution_count": 105,
   "id": "aa6cdae2",
   "metadata": {},
   "outputs": [
    {
     "data": {
      "text/plain": [
       "['year',\n",
       " 'engine_hp',\n",
       " 'engine_cylinders',\n",
       " 'highway_mpg',\n",
       " 'city_mpg',\n",
       " 'above_average']"
      ]
     },
     "execution_count": 105,
     "metadata": {},
     "output_type": "execute_result"
    }
   ],
   "source": [
    "num = list(df.dtypes[(df.dtypes == 'int64') | (df.dtypes == 'float64')].index)\n",
    "num"
   ]
  },
  {
   "cell_type": "code",
   "execution_count": 106,
   "id": "80d5649b",
   "metadata": {},
   "outputs": [
    {
     "data": {
      "text/plain": [
       "['year', 'engine_hp', 'engine_cylinders', 'highway_mpg', 'city_mpg']"
      ]
     },
     "execution_count": 106,
     "metadata": {},
     "output_type": "execute_result"
    }
   ],
   "source": [
    "num.remove('above_average')\n",
    "num"
   ]
  },
  {
   "cell_type": "code",
   "execution_count": 107,
   "id": "f9ab71f4",
   "metadata": {},
   "outputs": [],
   "source": [
    "def mutual_info_price(series):\n",
    "    return mutual_info_score(series, df.above_average)"
   ]
  },
  {
   "cell_type": "code",
   "execution_count": 108,
   "id": "ffc06176",
   "metadata": {},
   "outputs": [
    {
     "data": {
      "text/plain": [
       "model                0.457469\n",
       "make                 0.237731\n",
       "vehicle_style        0.082633\n",
       "transmission_type    0.019954\n",
       "dtype: float64"
      ]
     },
     "execution_count": 108,
     "metadata": {},
     "output_type": "execute_result"
    }
   ],
   "source": [
    "mi = df[cat].apply(mutual_info_price)\n",
    "mi.sort_values(ascending=False)"
   ]
  },
  {
   "cell_type": "markdown",
   "id": "f8a0f631",
   "metadata": {},
   "source": [
    "**4: Accuracy of the model**"
   ]
  },
  {
   "cell_type": "code",
   "execution_count": 109,
   "id": "86e59396",
   "metadata": {},
   "outputs": [],
   "source": [
    "# standardise numerical values\n",
    "X_train_num = df_train[num].values\n",
    "\n",
    "#scaler = StandardScaler()\n",
    "#scaler = MinMaxScaler()\n",
    "\n",
    "# X_train_num = scaler.fit_transform(X_train_num)"
   ]
  },
  {
   "cell_type": "code",
   "execution_count": 110,
   "id": "0f738f3f",
   "metadata": {},
   "outputs": [
    {
     "data": {
      "text/html": [
       "<div>\n",
       "<style scoped>\n",
       "    .dataframe tbody tr th:only-of-type {\n",
       "        vertical-align: middle;\n",
       "    }\n",
       "\n",
       "    .dataframe tbody tr th {\n",
       "        vertical-align: top;\n",
       "    }\n",
       "\n",
       "    .dataframe thead th {\n",
       "        text-align: right;\n",
       "    }\n",
       "</style>\n",
       "<table border=\"1\" class=\"dataframe\">\n",
       "  <thead>\n",
       "    <tr style=\"text-align: right;\">\n",
       "      <th></th>\n",
       "      <th>make</th>\n",
       "      <th>model</th>\n",
       "      <th>transmission_type</th>\n",
       "      <th>vehicle_style</th>\n",
       "    </tr>\n",
       "  </thead>\n",
       "  <tbody>\n",
       "    <tr>\n",
       "      <th>0</th>\n",
       "      <td>BMW</td>\n",
       "      <td>1 Series M</td>\n",
       "      <td>MANUAL</td>\n",
       "      <td>Coupe</td>\n",
       "    </tr>\n",
       "    <tr>\n",
       "      <th>1</th>\n",
       "      <td>BMW</td>\n",
       "      <td>1 Series</td>\n",
       "      <td>MANUAL</td>\n",
       "      <td>Convertible</td>\n",
       "    </tr>\n",
       "    <tr>\n",
       "      <th>2</th>\n",
       "      <td>BMW</td>\n",
       "      <td>1 Series</td>\n",
       "      <td>MANUAL</td>\n",
       "      <td>Coupe</td>\n",
       "    </tr>\n",
       "    <tr>\n",
       "      <th>3</th>\n",
       "      <td>BMW</td>\n",
       "      <td>1 Series</td>\n",
       "      <td>MANUAL</td>\n",
       "      <td>Coupe</td>\n",
       "    </tr>\n",
       "    <tr>\n",
       "      <th>4</th>\n",
       "      <td>BMW</td>\n",
       "      <td>1 Series</td>\n",
       "      <td>MANUAL</td>\n",
       "      <td>Convertible</td>\n",
       "    </tr>\n",
       "  </tbody>\n",
       "</table>\n",
       "</div>"
      ],
      "text/plain": [
       "  make       model transmission_type vehicle_style\n",
       "0  BMW  1 Series M            MANUAL         Coupe\n",
       "1  BMW    1 Series            MANUAL   Convertible\n",
       "2  BMW    1 Series            MANUAL         Coupe\n",
       "3  BMW    1 Series            MANUAL         Coupe\n",
       "4  BMW    1 Series            MANUAL   Convertible"
      ]
     },
     "execution_count": 110,
     "metadata": {},
     "output_type": "execute_result"
    }
   ],
   "source": [
    "df[cat].head()"
   ]
  },
  {
   "cell_type": "code",
   "execution_count": 111,
   "id": "05819b44",
   "metadata": {},
   "outputs": [],
   "source": [
    "# perform one hot engoding on categorical values\n",
    "ohe = OneHotEncoder(sparse=False, handle_unknown='ignore')"
   ]
  },
  {
   "cell_type": "code",
   "execution_count": 112,
   "id": "6ae56c75",
   "metadata": {},
   "outputs": [
    {
     "name": "stderr",
     "output_type": "stream",
     "text": [
      "/home/ubuntu/miniconda3/envs/jupyter_env/lib/python3.11/site-packages/sklearn/preprocessing/_encoders.py:868: FutureWarning: `sparse` was renamed to `sparse_output` in version 1.2 and will be removed in 1.4. `sparse_output` is ignored unless you leave `sparse` to its default value.\n",
      "  warnings.warn(\n"
     ]
    }
   ],
   "source": [
    "X_train_cat = ohe.fit_transform(df_train[cat].values)"
   ]
  },
  {
   "cell_type": "code",
   "execution_count": 113,
   "id": "61545cf0",
   "metadata": {},
   "outputs": [
    {
     "data": {
      "text/plain": [
       "array(['x0_Acura', 'x0_Alfa Romeo', 'x0_Aston Martin', 'x0_Audi',\n",
       "       'x0_BMW', 'x0_Bentley', 'x0_Bugatti', 'x0_Buick', 'x0_Cadillac',\n",
       "       'x0_Chevrolet', 'x0_Chrysler', 'x0_Dodge', 'x0_FIAT', 'x0_Ferrari',\n",
       "       'x0_Ford', 'x0_GMC', 'x0_Genesis', 'x0_HUMMER', 'x0_Honda',\n",
       "       'x0_Hyundai', 'x0_Infiniti', 'x0_Kia', 'x0_Lamborghini',\n",
       "       'x0_Land Rover', 'x0_Lexus', 'x0_Lincoln', 'x0_Lotus',\n",
       "       'x0_Maserati', 'x0_Maybach', 'x0_Mazda', 'x0_McLaren',\n",
       "       'x0_Mercedes-Benz', 'x0_Mitsubishi', 'x0_Nissan', 'x0_Oldsmobile',\n",
       "       'x0_Plymouth', 'x0_Pontiac', 'x0_Porsche', 'x0_Rolls-Royce',\n",
       "       'x0_Saab', 'x0_Scion', 'x0_Spyker', 'x0_Subaru', 'x0_Suzuki',\n",
       "       'x0_Tesla', 'x0_Toyota', 'x0_Volkswagen', 'x0_Volvo',\n",
       "       'x1_1 Series', 'x1_100', 'x1_124 Spider', 'x1_190-Class', 'x1_2',\n",
       "       'x1_2 Series', 'x1_200', 'x1_200SX', 'x1_240', 'x1_240SX', 'x1_3',\n",
       "       'x1_3 Series', 'x1_3 Series Gran Turismo', 'x1_300',\n",
       "       'x1_300-Class', 'x1_3000GT', 'x1_300M', 'x1_300ZX', 'x1_323',\n",
       "       'x1_350-Class', 'x1_350Z', 'x1_360', 'x1_370Z', 'x1_4 Series',\n",
       "       'x1_4 Series Gran Coupe', 'x1_400-Class', 'x1_420-Class',\n",
       "       'x1_456M', 'x1_458 Italia', 'x1_4C', 'x1_4Runner', 'x1_5',\n",
       "       'x1_5 Series', 'x1_5 Series Gran Turismo', 'x1_500',\n",
       "       'x1_500-Class', 'x1_500L', 'x1_500X', 'x1_500e', 'x1_550',\n",
       "       'x1_560-Class', 'x1_57', 'x1_570S', 'x1_575M', 'x1_599', 'x1_6',\n",
       "       'x1_6 Series', 'x1_6 Series Gran Coupe', 'x1_600-Class', 'x1_6000',\n",
       "       'x1_612 Scaglietti', 'x1_62', 'x1_626', 'x1_7 Series', 'x1_740',\n",
       "       'x1_760', 'x1_780', 'x1_8 Series', 'x1_80', 'x1_850', 'x1_9-2X',\n",
       "       'x1_9-3', 'x1_9-3 Griffin', 'x1_9-4X', 'x1_9-5', 'x1_9-7X',\n",
       "       'x1_90', 'x1_900', 'x1_9000', 'x1_911', 'x1_928', 'x1_929',\n",
       "       'x1_940', 'x1_944', 'x1_960', 'x1_968', 'x1_A3', 'x1_A4', 'x1_A5',\n",
       "       'x1_A6', 'x1_A7', 'x1_A8', 'x1_ALPINA B6 Gran Coupe',\n",
       "       'x1_ALPINA B7', 'x1_AMG GT', 'x1_ATS', 'x1_ATS Coupe', 'x1_Acadia',\n",
       "       'x1_Acadia Limited', 'x1_Accent', 'x1_Acclaim', 'x1_Accord',\n",
       "       'x1_Accord Crosstour', 'x1_Accord Hybrid',\n",
       "       'x1_Accord Plug-In Hybrid', 'x1_Achieva', 'x1_ActiveHybrid 5',\n",
       "       'x1_ActiveHybrid 7', 'x1_ActiveHybrid X6', 'x1_Aerio',\n",
       "       'x1_Aerostar', 'x1_Alero', 'x1_Allante', 'x1_Altima',\n",
       "       'x1_Altima Hybrid', 'x1_Amanti', 'x1_Armada', 'x1_Arnage',\n",
       "       'x1_Aspen', 'x1_Aspire', 'x1_Astro', 'x1_Astro Cargo', 'x1_Aurora',\n",
       "       'x1_Avalanche', 'x1_Avalon', 'x1_Avalon Hybrid', 'x1_Avenger',\n",
       "       'x1_Aventador', 'x1_Aveo', 'x1_Aviator', 'x1_Axxess', 'x1_Azera',\n",
       "       'x1_Aztek', 'x1_Azure', 'x1_Azure T', 'x1_B-Class Electric Drive',\n",
       "       'x1_B-Series', 'x1_B-Series Pickup', 'x1_B-Series Truck',\n",
       "       'x1_B9 Tribeca', 'x1_BRZ', 'x1_Baja', 'x1_Beetle',\n",
       "       'x1_Beetle Convertible', 'x1_Beretta',\n",
       "       'x1_Black Diamond Avalanche', 'x1_Blackwood', 'x1_Blazer',\n",
       "       'x1_Bonneville', 'x1_Borrego', 'x1_Boxster', 'x1_Bravada',\n",
       "       'x1_Breeze', 'x1_Bronco', 'x1_Bronco II', 'x1_Brooklands',\n",
       "       'x1_Brougham', 'x1_C-Class', 'x1_C-Max Hybrid',\n",
       "       'x1_C/K 1500 Series', 'x1_C/K 2500 Series', 'x1_C30', 'x1_C43 AMG',\n",
       "       'x1_C70', 'x1_C8', 'x1_CC', 'x1_CL', 'x1_CL-Class', 'x1_CLA-Class',\n",
       "       'x1_CLK-Class', 'x1_CLS-Class', 'x1_CR-V', 'x1_CR-Z', 'x1_CT6',\n",
       "       'x1_CTS', 'x1_CTS Coupe', 'x1_CTS Wagon', 'x1_CTS-V',\n",
       "       'x1_CTS-V Coupe', 'x1_CTS-V Wagon', 'x1_CX-3', 'x1_CX-5',\n",
       "       'x1_CX-7', 'x1_CX-9', 'x1_Cabrio', 'x1_Cabriolet', 'x1_Cadenza',\n",
       "       'x1_Caliber', 'x1_Camaro', 'x1_Camry', 'x1_Camry Hybrid',\n",
       "       'x1_Camry Solara', 'x1_Canyon', 'x1_Caprice', 'x1_Captiva Sport',\n",
       "       'x1_Caravan', 'x1_Carrera GT', 'x1_Cascada', 'x1_Catera',\n",
       "       'x1_Cavalier', 'x1_Cayenne', 'x1_Cayman', 'x1_Cayman S',\n",
       "       'x1_Celebrity', 'x1_Celica', 'x1_Century', 'x1_Challenger',\n",
       "       'x1_Charger', 'x1_Chevy Van', 'x1_City Express', 'x1_Civic',\n",
       "       'x1_Civic CRX', 'x1_Civic del Sol', 'x1_Classic', 'x1_Cobalt',\n",
       "       'x1_Colorado', 'x1_Colt', 'x1_Concorde', 'x1_Continental',\n",
       "       'x1_Continental Flying Spur', 'x1_Continental Flying Spur Speed',\n",
       "       'x1_Continental GT', 'x1_Continental GT Speed',\n",
       "       'x1_Continental GT Speed Convertible', 'x1_Continental GTC',\n",
       "       'x1_Continental GTC Speed', 'x1_Continental Supersports',\n",
       "       'x1_Continental Supersports Convertible', 'x1_Contour',\n",
       "       'x1_Corniche', 'x1_Corolla', 'x1_Corolla iM', 'x1_Corrado',\n",
       "       'x1_Corvette', 'x1_Corvette Stingray', 'x1_Coupe', 'x1_Cressida',\n",
       "       'x1_Crossfire', 'x1_Crosstour', 'x1_Crosstrek',\n",
       "       'x1_Crown Victoria', 'x1_Cruze', 'x1_Cruze Limited', 'x1_Cube',\n",
       "       'x1_Custom Cruiser', 'x1_Cutlass', 'x1_Cutlass Calais',\n",
       "       'x1_Cutlass Ciera', 'x1_Cutlass Supreme', 'x1_DB9', 'x1_DB9 GT',\n",
       "       'x1_DBS', 'x1_DTS', 'x1_Dakota', 'x1_Dart', 'x1_Dawn',\n",
       "       'x1_Daytona', 'x1_DeVille', 'x1_Defender', 'x1_Diablo',\n",
       "       'x1_Diamante', 'x1_Discovery', 'x1_Discovery Series II',\n",
       "       'x1_Discovery Sport', 'x1_Durango', 'x1_Dynasty', 'x1_E-150',\n",
       "       'x1_E-250', 'x1_E-Class', 'x1_E-Series Van', 'x1_E-Series Wagon',\n",
       "       'x1_E55 AMG', 'x1_ECHO', 'x1_ES 250', 'x1_ES 300', 'x1_ES 300h',\n",
       "       'x1_EX', 'x1_EX35', 'x1_Eclipse', 'x1_Eclipse Spyder', 'x1_Edge',\n",
       "       'x1_Eighty-Eight', 'x1_Eighty-Eight Royale', 'x1_Elantra',\n",
       "       'x1_Elantra Coupe', 'x1_Elantra GT', 'x1_Elantra Touring',\n",
       "       'x1_Eldorado', 'x1_Electra', 'x1_Element', 'x1_Elise',\n",
       "       'x1_Enclave', 'x1_Encore', 'x1_Endeavor', 'x1_Entourage',\n",
       "       'x1_Envision', 'x1_Envoy', 'x1_Envoy XL', 'x1_Envoy XUV', 'x1_Eos',\n",
       "       'x1_Equator', 'x1_Equinox', 'x1_Equus', 'x1_Escalade',\n",
       "       'x1_Escalade ESV', 'x1_Escalade EXT', 'x1_Escalade Hybrid',\n",
       "       'x1_Escape', 'x1_Escape Hybrid', 'x1_Escort', 'x1_Esprit',\n",
       "       'x1_Esteem', 'x1_EuroVan', 'x1_Evora', 'x1_Excel', 'x1_Exige',\n",
       "       'x1_Expedition', 'x1_Explorer', 'x1_Explorer Sport',\n",
       "       'x1_Explorer Sport Trac', 'x1_Expo', 'x1_Express',\n",
       "       'x1_Express Cargo', 'x1_F-150', 'x1_F-150 Heritage',\n",
       "       'x1_F-150 SVT Lightning', 'x1_F-250', 'x1_F12 Berlinetta',\n",
       "       'x1_F430', 'x1_FF', 'x1_FJ Cruiser', 'x1_FR-S', 'x1_FX', 'x1_FX35',\n",
       "       'x1_FX45', 'x1_FX50', 'x1_Festiva', 'x1_Fiesta', 'x1_Firebird',\n",
       "       'x1_Fit', 'x1_Five Hundred', 'x1_Fleetwood', 'x1_Flex',\n",
       "       'x1_Flying Spur', 'x1_Focus', 'x1_Focus ST', 'x1_Forenza',\n",
       "       'x1_Forester', 'x1_Forte', 'x1_Fox', 'x1_Freelander',\n",
       "       'x1_Freestar', 'x1_Freestyle', 'x1_Frontier', 'x1_Fusion',\n",
       "       'x1_Fusion Hybrid', 'x1_G Convertible', 'x1_G Coupe', 'x1_G Sedan',\n",
       "       'x1_G-Class', 'x1_G20', 'x1_G3', 'x1_G35', 'x1_G37',\n",
       "       'x1_G37 Convertible', 'x1_G37 Coupe', 'x1_G37 Sedan', 'x1_G5',\n",
       "       'x1_G6', 'x1_G8', 'x1_G80', 'x1_GL-Class', 'x1_GLA-Class',\n",
       "       'x1_GLC-Class', 'x1_GLE-Class', 'x1_GLE-Class Coupe', 'x1_GLI',\n",
       "       'x1_GLK-Class', 'x1_GLS-Class', 'x1_GS 200t', 'x1_GS 300',\n",
       "       'x1_GS 350', 'x1_GS 400', 'x1_GS 430', 'x1_GS 450h', 'x1_GS 460',\n",
       "       'x1_GT', 'x1_GT-R', 'x1_GTI', 'x1_GTO', 'x1_GX 460', 'x1_GX 470',\n",
       "       'x1_Galant', 'x1_Gallardo', 'x1_Genesis', 'x1_Genesis Coupe',\n",
       "       'x1_Ghibli', 'x1_Ghost', 'x1_Ghost Series II', 'x1_Golf',\n",
       "       'x1_Golf Alltrack', 'x1_Golf GTI', 'x1_Golf R',\n",
       "       'x1_Golf SportWagen', 'x1_GranSport', 'x1_GranTurismo',\n",
       "       'x1_GranTurismo Convertible', 'x1_Grand Am', 'x1_Grand Caravan',\n",
       "       'x1_Grand Prix', 'x1_Grand Vitara', 'x1_Grand Voyager', 'x1_H3',\n",
       "       'x1_H3T', 'x1_HHR', 'x1_HR-V', 'x1_HS 250h', 'x1_Highlander',\n",
       "       'x1_Highlander Hybrid', 'x1_Horizon', 'x1_Huracan', 'x1_I30',\n",
       "       'x1_I35', 'x1_ILX', 'x1_ILX Hybrid', 'x1_IS 200t', 'x1_IS 250',\n",
       "       'x1_IS 250 C', 'x1_IS 300', 'x1_IS 350', 'x1_IS 350 C', 'x1_IS F',\n",
       "       'x1_Impala', 'x1_Impala Limited', 'x1_Imperial', 'x1_Impreza',\n",
       "       'x1_Impreza WRX', 'x1_Insight', 'x1_Integra', 'x1_Intrepid',\n",
       "       'x1_Intrigue', 'x1_J30', 'x1_JX', 'x1_Jetta', 'x1_Jetta GLI',\n",
       "       'x1_Jetta Hybrid', 'x1_Jetta SportWagen', 'x1_Jimmy', 'x1_Journey',\n",
       "       'x1_Juke', 'x1_Justy', 'x1_K900', 'x1_Kizashi', 'x1_LFA', 'x1_LHS',\n",
       "       'x1_LR2', 'x1_LR3', 'x1_LR4', 'x1_LS', 'x1_LS 400', 'x1_LS 430',\n",
       "       'x1_LS 460', 'x1_LS 600h L', 'x1_LSS', 'x1_LTD Crown Victoria',\n",
       "       'x1_LX 450', 'x1_LX 470', 'x1_LX 570', 'x1_LaCrosse', 'x1_Lancer',\n",
       "       'x1_Lancer Evolution', 'x1_Lancer Sportback', 'x1_Land Cruiser',\n",
       "       'x1_Laser', 'x1_Le Baron', 'x1_Le Mans', 'x1_LeSabre', 'x1_Leaf',\n",
       "       'x1_Legacy', 'x1_Legend', 'x1_Levante', 'x1_Loyale', 'x1_Lucerne',\n",
       "       'x1_Lumina', 'x1_Lumina Minivan', 'x1_M', 'x1_M-Class', 'x1_M2',\n",
       "       'x1_M3', 'x1_M30', 'x1_M35', 'x1_M37', 'x1_M4', 'x1_M45', 'x1_M5',\n",
       "       'x1_M56', 'x1_M6', 'x1_M6 Gran Coupe', 'x1_MDX', 'x1_MKC',\n",
       "       'x1_MKS', 'x1_MKT', 'x1_MKX', 'x1_MKZ', 'x1_MKZ Hybrid',\n",
       "       'x1_MP4-12C', 'x1_MPV', 'x1_MR2', 'x1_MR2 Spyder', 'x1_MX-3',\n",
       "       'x1_MX-5 Miata', 'x1_MX-6', 'x1_Macan', 'x1_Magnum', 'x1_Malibu',\n",
       "       'x1_Malibu Classic', 'x1_Malibu Hybrid', 'x1_Malibu Limited',\n",
       "       'x1_Malibu Maxx', 'x1_Mark LT', 'x1_Mark VII', 'x1_Mark VIII',\n",
       "       'x1_Matrix', 'x1_Maxima', 'x1_Maybach', 'x1_Mazdaspeed 3',\n",
       "       'x1_Mazdaspeed MX-5 Miata', 'x1_Mazdaspeed Protege', 'x1_Metris',\n",
       "       'x1_Metro', 'x1_Mighty Max Pickup', 'x1_Millenia', 'x1_Mirage',\n",
       "       'x1_Mirage G4', 'x1_Model S', 'x1_Monaco', 'x1_Montana',\n",
       "       'x1_Montana SV6', 'x1_Monte Carlo', 'x1_Montero',\n",
       "       'x1_Montero Sport', 'x1_Mulsanne', 'x1_Murano',\n",
       "       'x1_Murano CrossCabriolet', 'x1_Murcielago', 'x1_Mustang',\n",
       "       'x1_Mustang SVT Cobra', 'x1_NSX', 'x1_NV200', 'x1_NX',\n",
       "       'x1_NX 200t', 'x1_NX 300h', 'x1_Navajo', 'x1_Navigator', 'x1_Neon',\n",
       "       'x1_New Beetle', 'x1_New Yorker', 'x1_Ninety-Eight', 'x1_Nitro',\n",
       "       'x1_Odyssey', 'x1_Omni', 'x1_Optima', 'x1_Optima Hybrid',\n",
       "       'x1_Outback', 'x1_Outlander', 'x1_Outlander Sport',\n",
       "       'x1_PT Cruiser', 'x1_Pacifica', 'x1_Panamera', 'x1_Park Avenue',\n",
       "       'x1_Paseo', 'x1_Passat', 'x1_Passport', 'x1_Pathfinder',\n",
       "       'x1_Phaeton', 'x1_Phantom', 'x1_Phantom Coupe',\n",
       "       'x1_Phantom Drophead Coupe', 'x1_Pickup', 'x1_Pilot', 'x1_Precis',\n",
       "       'x1_Prelude', 'x1_Previa', 'x1_Prius', 'x1_Prius Prime',\n",
       "       'x1_Prius c', 'x1_Prius v', 'x1_Prizm', 'x1_Probe', 'x1_Protege',\n",
       "       'x1_Protege5', 'x1_Prowler', 'x1_Q3', 'x1_Q40', 'x1_Q45', 'x1_Q5',\n",
       "       'x1_Q50', 'x1_Q60 Convertible', 'x1_Q60 Coupe', 'x1_Q7', 'x1_Q70',\n",
       "       'x1_QX', 'x1_QX4', 'x1_QX50', 'x1_QX56', 'x1_QX60', 'x1_QX70',\n",
       "       'x1_QX80', 'x1_Quattroporte', 'x1_Quest', 'x1_R-Class', 'x1_R32',\n",
       "       'x1_R8', 'x1_RAM 150', 'x1_RAM 250', 'x1_RAV4', 'x1_RAV4 EV',\n",
       "       'x1_RAV4 Hybrid', 'x1_RC 200t', 'x1_RC 300', 'x1_RC 350', 'x1_RDX',\n",
       "       'x1_RL', 'x1_RLX', 'x1_RS 4', 'x1_RS 5', 'x1_RS 7', 'x1_RSX',\n",
       "       'x1_RX 300', 'x1_RX 330', 'x1_RX 350', 'x1_RX 400h', 'x1_RX 450h',\n",
       "       'x1_RX-7', 'x1_RX-8', 'x1_Rabbit', 'x1_Raider', 'x1_Rainier',\n",
       "       'x1_Rally Wagon', 'x1_Ram 50 Pickup', 'x1_Ram Cargo',\n",
       "       'x1_Ram Pickup 1500', 'x1_Ram Van', 'x1_Ram Wagon',\n",
       "       'x1_Ramcharger', 'x1_Range Rover', 'x1_Range Rover Evoque',\n",
       "       'x1_Range Rover Sport', 'x1_Ranger', 'x1_Rapide', 'x1_Rapide S',\n",
       "       'x1_Reatta', 'x1_Regal', 'x1_Regency', 'x1_Rendezvous', 'x1_Reno',\n",
       "       'x1_Reventon', 'x1_Ridgeline', 'x1_Rio', 'x1_Riviera',\n",
       "       'x1_Roadmaster', 'x1_Rogue', 'x1_Rogue Select', 'x1_Rondo',\n",
       "       'x1_Routan', 'x1_S-10', 'x1_S-10 Blazer', 'x1_S-15',\n",
       "       'x1_S-15 Jimmy', 'x1_S-Class', 'x1_S2000', 'x1_S3', 'x1_S4',\n",
       "       'x1_S40', 'x1_S5', 'x1_S6', 'x1_S60', 'x1_S60 Cross Country',\n",
       "       'x1_S7', 'x1_S70', 'x1_S8', 'x1_S80', 'x1_S90', 'x1_SC 300',\n",
       "       'x1_SC 400', 'x1_SC 430', 'x1_SL-Class', 'x1_SLC-Class',\n",
       "       'x1_SLK-Class', 'x1_SLR McLaren', 'x1_SLS AMG', 'x1_SLS AMG GT',\n",
       "       'x1_SLS AMG GT Final Edition', 'x1_SLX', 'x1_SQ5', 'x1_SRT Viper',\n",
       "       'x1_SRX', 'x1_STS', 'x1_STS-V', 'x1_SVX', 'x1_SX4', 'x1_Safari',\n",
       "       'x1_Safari Cargo', 'x1_Samurai', 'x1_Santa Fe',\n",
       "       'x1_Santa Fe Sport', 'x1_Savana', 'x1_Savana Cargo', 'x1_Scoupe',\n",
       "       'x1_Sebring', 'x1_Sedona', 'x1_Sentra', 'x1_Sephia', 'x1_Sequoia',\n",
       "       'x1_Seville', 'x1_Shadow', 'x1_Shelby GT350', 'x1_Shelby GT500',\n",
       "       'x1_Sidekick', 'x1_Sienna', 'x1_Sierra 1500',\n",
       "       'x1_Sierra 1500 Classic', 'x1_Sierra 1500 Hybrid',\n",
       "       'x1_Sierra 1500HD', 'x1_Sierra C3', 'x1_Sierra Classic 1500',\n",
       "       'x1_Sigma', 'x1_Silhouette', 'x1_Silver Seraph',\n",
       "       'x1_Silverado 1500', 'x1_Silverado 1500 Classic',\n",
       "       'x1_Silverado 1500 Hybrid', 'x1_Skylark', 'x1_Solstice',\n",
       "       'x1_Sonata', 'x1_Sonata Hybrid', 'x1_Sonic', 'x1_Sonoma',\n",
       "       'x1_Sorento', 'x1_Soul', 'x1_Soul EV', 'x1_Spark', 'x1_Spark EV',\n",
       "       'x1_Spectra', 'x1_Spirit', 'x1_Sportage', 'x1_Sportvan',\n",
       "       'x1_Spyder', 'x1_Stanza', 'x1_Stealth', 'x1_Stratus',\n",
       "       'x1_Suburban', 'x1_Sunbird', 'x1_Sundance', 'x1_Sunfire',\n",
       "       'x1_Supra', 'x1_Swift', 'x1_Syclone', 'x1_T100', 'x1_TL', 'x1_TLX',\n",
       "       'x1_TSX', 'x1_TSX Sport Wagon', 'x1_TT', 'x1_TTS', 'x1_Tacoma',\n",
       "       'x1_Tahoe', 'x1_Tahoe Hybrid', 'x1_Tahoe Limited/Z71', 'x1_Taurus',\n",
       "       'x1_Taurus X', 'x1_Tempo', 'x1_Tercel', 'x1_Terrain', 'x1_Terraza',\n",
       "       'x1_Thunderbird', 'x1_Tiburon', 'x1_Tiguan', 'x1_Titan',\n",
       "       'x1_Toronado', 'x1_Torrent', 'x1_Touareg', 'x1_Touareg 2',\n",
       "       'x1_Town Car', 'x1_Town and Country', 'x1_Tracker',\n",
       "       'x1_TrailBlazer', 'x1_TrailBlazer EXT', 'x1_Trans Sport',\n",
       "       'x1_Transit Connect', 'x1_Transit Wagon', 'x1_Traverse', 'x1_Trax',\n",
       "       'x1_Tribeca', 'x1_Tribute', 'x1_Tribute Hybrid', 'x1_Truck',\n",
       "       'x1_Tucson', 'x1_Tundra', 'x1_Typhoon', 'x1_Uplander',\n",
       "       'x1_V12 Vanquish', 'x1_V12 Vantage', 'x1_V12 Vantage S', 'x1_V40',\n",
       "       'x1_V50', 'x1_V60', 'x1_V60 Cross Country', 'x1_V70',\n",
       "       'x1_V8 Vantage', 'x1_Van', 'x1_Vanagon', 'x1_Vandura',\n",
       "       'x1_Vanquish', 'x1_Vanwagon', 'x1_Veloster', 'x1_Venture',\n",
       "       'x1_Venza', 'x1_Veracruz', 'x1_Verano', 'x1_Verona', 'x1_Versa',\n",
       "       'x1_Versa Note', 'x1_Veyron 16.4', 'x1_Vibe', 'x1_Vigor',\n",
       "       'x1_Viper', 'x1_Virage', 'x1_Vitara', 'x1_Voyager', 'x1_WRX',\n",
       "       'x1_Windstar', 'x1_Windstar Cargo', 'x1_Wraith', 'x1_X-90',\n",
       "       'x1_X1', 'x1_X3', 'x1_X4', 'x1_X5', 'x1_X5 M', 'x1_X6', 'x1_X6 M',\n",
       "       'x1_XC', 'x1_XC60', 'x1_XC70', 'x1_XC90', 'x1_XG300', 'x1_XG350',\n",
       "       'x1_XL-7', 'x1_XL7', 'x1_XLR', 'x1_XLR-V', 'x1_XT', 'x1_XT5',\n",
       "       'x1_XTS', 'x1_XV Crosstrek', 'x1_Xterra', 'x1_Yaris',\n",
       "       'x1_Yaris iA', 'x1_Yukon', 'x1_Yukon Denali', 'x1_Yukon Hybrid',\n",
       "       'x1_Yukon XL', 'x1_Z3', 'x1_Z4', 'x1_Z4 M', 'x1_Z8', 'x1_ZDX',\n",
       "       'x1_allroad', 'x1_allroad quattro', 'x1_e-Golf', 'x1_i-MiEV',\n",
       "       'x1_i3', 'x1_iA', 'x1_iQ', 'x1_tC', 'x1_xA', 'x1_xB', 'x1_xD',\n",
       "       'x2_AUTOMATED_MANUAL', 'x2_AUTOMATIC', 'x2_DIRECT_DRIVE',\n",
       "       'x2_MANUAL', 'x2_UNKNOWN', 'x3_2dr Hatchback', 'x3_2dr SUV',\n",
       "       'x3_4dr Hatchback', 'x3_4dr SUV', 'x3_Cargo Minivan',\n",
       "       'x3_Cargo Van', 'x3_Convertible', 'x3_Convertible SUV', 'x3_Coupe',\n",
       "       'x3_Crew Cab Pickup', 'x3_Extended Cab Pickup',\n",
       "       'x3_Passenger Minivan', 'x3_Passenger Van',\n",
       "       'x3_Regular Cab Pickup', 'x3_Sedan', 'x3_Wagon'], dtype=object)"
      ]
     },
     "execution_count": 113,
     "metadata": {},
     "output_type": "execute_result"
    }
   ],
   "source": [
    "ohe.get_feature_names_out()"
   ]
  },
  {
   "cell_type": "code",
   "execution_count": 114,
   "id": "cac45f9a",
   "metadata": {},
   "outputs": [],
   "source": [
    "# concatenate X_train_num and X_train_cat]\n",
    "X_train = np.column_stack([X_train_num, X_train_cat])"
   ]
  },
  {
   "cell_type": "code",
   "execution_count": 115,
   "id": "6d22ba1b",
   "metadata": {},
   "outputs": [
    {
     "data": {
      "text/html": [
       "<style>#sk-container-id-10 {color: black;background-color: white;}#sk-container-id-10 pre{padding: 0;}#sk-container-id-10 div.sk-toggleable {background-color: white;}#sk-container-id-10 label.sk-toggleable__label {cursor: pointer;display: block;width: 100%;margin-bottom: 0;padding: 0.3em;box-sizing: border-box;text-align: center;}#sk-container-id-10 label.sk-toggleable__label-arrow:before {content: \"▸\";float: left;margin-right: 0.25em;color: #696969;}#sk-container-id-10 label.sk-toggleable__label-arrow:hover:before {color: black;}#sk-container-id-10 div.sk-estimator:hover label.sk-toggleable__label-arrow:before {color: black;}#sk-container-id-10 div.sk-toggleable__content {max-height: 0;max-width: 0;overflow: hidden;text-align: left;background-color: #f0f8ff;}#sk-container-id-10 div.sk-toggleable__content pre {margin: 0.2em;color: black;border-radius: 0.25em;background-color: #f0f8ff;}#sk-container-id-10 input.sk-toggleable__control:checked~div.sk-toggleable__content {max-height: 200px;max-width: 100%;overflow: auto;}#sk-container-id-10 input.sk-toggleable__control:checked~label.sk-toggleable__label-arrow:before {content: \"▾\";}#sk-container-id-10 div.sk-estimator input.sk-toggleable__control:checked~label.sk-toggleable__label {background-color: #d4ebff;}#sk-container-id-10 div.sk-label input.sk-toggleable__control:checked~label.sk-toggleable__label {background-color: #d4ebff;}#sk-container-id-10 input.sk-hidden--visually {border: 0;clip: rect(1px 1px 1px 1px);clip: rect(1px, 1px, 1px, 1px);height: 1px;margin: -1px;overflow: hidden;padding: 0;position: absolute;width: 1px;}#sk-container-id-10 div.sk-estimator {font-family: monospace;background-color: #f0f8ff;border: 1px dotted black;border-radius: 0.25em;box-sizing: border-box;margin-bottom: 0.5em;}#sk-container-id-10 div.sk-estimator:hover {background-color: #d4ebff;}#sk-container-id-10 div.sk-parallel-item::after {content: \"\";width: 100%;border-bottom: 1px solid gray;flex-grow: 1;}#sk-container-id-10 div.sk-label:hover label.sk-toggleable__label {background-color: #d4ebff;}#sk-container-id-10 div.sk-serial::before {content: \"\";position: absolute;border-left: 1px solid gray;box-sizing: border-box;top: 0;bottom: 0;left: 50%;z-index: 0;}#sk-container-id-10 div.sk-serial {display: flex;flex-direction: column;align-items: center;background-color: white;padding-right: 0.2em;padding-left: 0.2em;position: relative;}#sk-container-id-10 div.sk-item {position: relative;z-index: 1;}#sk-container-id-10 div.sk-parallel {display: flex;align-items: stretch;justify-content: center;background-color: white;position: relative;}#sk-container-id-10 div.sk-item::before, #sk-container-id-10 div.sk-parallel-item::before {content: \"\";position: absolute;border-left: 1px solid gray;box-sizing: border-box;top: 0;bottom: 0;left: 50%;z-index: -1;}#sk-container-id-10 div.sk-parallel-item {display: flex;flex-direction: column;z-index: 1;position: relative;background-color: white;}#sk-container-id-10 div.sk-parallel-item:first-child::after {align-self: flex-end;width: 50%;}#sk-container-id-10 div.sk-parallel-item:last-child::after {align-self: flex-start;width: 50%;}#sk-container-id-10 div.sk-parallel-item:only-child::after {width: 0;}#sk-container-id-10 div.sk-dashed-wrapped {border: 1px dashed gray;margin: 0 0.4em 0.5em 0.4em;box-sizing: border-box;padding-bottom: 0.4em;background-color: white;}#sk-container-id-10 div.sk-label label {font-family: monospace;font-weight: bold;display: inline-block;line-height: 1.2em;}#sk-container-id-10 div.sk-label-container {text-align: center;}#sk-container-id-10 div.sk-container {/* jupyter's `normalize.less` sets `[hidden] { display: none; }` but bootstrap.min.css set `[hidden] { display: none !important; }` so we also need the `!important` here to be able to override the default hidden behavior on the sphinx rendered scikit-learn.org. See: https://github.com/scikit-learn/scikit-learn/issues/21755 */display: inline-block !important;position: relative;}#sk-container-id-10 div.sk-text-repr-fallback {display: none;}</style><div id=\"sk-container-id-10\" class=\"sk-top-container\"><div class=\"sk-text-repr-fallback\"><pre>LogisticRegression(C=10, max_iter=1000, random_state=42, solver=&#x27;liblinear&#x27;)</pre><b>In a Jupyter environment, please rerun this cell to show the HTML representation or trust the notebook. <br />On GitHub, the HTML representation is unable to render, please try loading this page with nbviewer.org.</b></div><div class=\"sk-container\" hidden><div class=\"sk-item\"><div class=\"sk-estimator sk-toggleable\"><input class=\"sk-toggleable__control sk-hidden--visually\" id=\"sk-estimator-id-10\" type=\"checkbox\" checked><label for=\"sk-estimator-id-10\" class=\"sk-toggleable__label sk-toggleable__label-arrow\">LogisticRegression</label><div class=\"sk-toggleable__content\"><pre>LogisticRegression(C=10, max_iter=1000, random_state=42, solver=&#x27;liblinear&#x27;)</pre></div></div></div></div></div>"
      ],
      "text/plain": [
       "LogisticRegression(C=10, max_iter=1000, random_state=42, solver='liblinear')"
      ]
     },
     "execution_count": 115,
     "metadata": {},
     "output_type": "execute_result"
    }
   ],
   "source": [
    "model = LogisticRegression(solver='liblinear', C=10, max_iter=1000, random_state=42)\n",
    "model.fit(X_train, y_train)"
   ]
  },
  {
   "cell_type": "code",
   "execution_count": 116,
   "id": "4e5efd3e",
   "metadata": {},
   "outputs": [],
   "source": [
    "#set up validation data\n",
    "X_val_num = df_val[num].values\n",
    "# X_val_num = scaler.transform(X_val_num)\n",
    "\n",
    "X_val_cat = ohe.transform(df_val[cat].values)\n",
    "\n",
    "X_val = np.column_stack([X_val_num, X_val_cat])"
   ]
  },
  {
   "cell_type": "code",
   "execution_count": 117,
   "id": "6faa79a7",
   "metadata": {},
   "outputs": [
    {
     "name": "stdout",
     "output_type": "stream",
     "text": [
      "Accuracy:  0.9454469156525388\n",
      "Accuracy:  0.95\n"
     ]
    }
   ],
   "source": [
    "# calculate model accuracy\n",
    "y_pred = model.predict_proba(X_val)[:, 1]\n",
    "print('Accuracy: ', accuracy_score(y_val, y_pred >= 0.5))\n",
    "print('Accuracy: ', accuracy_score(y_val, y_pred >= 0.5).round(2))\n"
   ]
  },
  {
   "cell_type": "markdown",
   "id": "c537a5df",
   "metadata": {},
   "source": [
    "**5: Feature selection - the smallest difference in accuracy**\n",
    "\n",
    "Remove features and caclulate accuracy:\n",
    "year,\n",
    "engine_hp,\n",
    "transmission_type,\n",
    "city_mpg"
   ]
  },
  {
   "cell_type": "code",
   "execution_count": 118,
   "id": "66ea076d",
   "metadata": {},
   "outputs": [],
   "source": [
    "X_train_full = X_train.copy()\n",
    "X_val_full = X_val.copy()"
   ]
  },
  {
   "cell_type": "markdown",
   "id": "a4fe06dc",
   "metadata": {},
   "source": [
    "*Remove year*"
   ]
  },
  {
   "cell_type": "code",
   "execution_count": 119,
   "id": "730a0b44",
   "metadata": {},
   "outputs": [],
   "source": [
    "X_train = X_train_full\n",
    "X_val = X_val_full\n",
    "\n",
    "X_train = X_train[:,1:]\n",
    "X_val = X_val[:,1:]"
   ]
  },
  {
   "cell_type": "code",
   "execution_count": 120,
   "id": "870495c2",
   "metadata": {},
   "outputs": [
    {
     "data": {
      "text/html": [
       "<style>#sk-container-id-11 {color: black;background-color: white;}#sk-container-id-11 pre{padding: 0;}#sk-container-id-11 div.sk-toggleable {background-color: white;}#sk-container-id-11 label.sk-toggleable__label {cursor: pointer;display: block;width: 100%;margin-bottom: 0;padding: 0.3em;box-sizing: border-box;text-align: center;}#sk-container-id-11 label.sk-toggleable__label-arrow:before {content: \"▸\";float: left;margin-right: 0.25em;color: #696969;}#sk-container-id-11 label.sk-toggleable__label-arrow:hover:before {color: black;}#sk-container-id-11 div.sk-estimator:hover label.sk-toggleable__label-arrow:before {color: black;}#sk-container-id-11 div.sk-toggleable__content {max-height: 0;max-width: 0;overflow: hidden;text-align: left;background-color: #f0f8ff;}#sk-container-id-11 div.sk-toggleable__content pre {margin: 0.2em;color: black;border-radius: 0.25em;background-color: #f0f8ff;}#sk-container-id-11 input.sk-toggleable__control:checked~div.sk-toggleable__content {max-height: 200px;max-width: 100%;overflow: auto;}#sk-container-id-11 input.sk-toggleable__control:checked~label.sk-toggleable__label-arrow:before {content: \"▾\";}#sk-container-id-11 div.sk-estimator input.sk-toggleable__control:checked~label.sk-toggleable__label {background-color: #d4ebff;}#sk-container-id-11 div.sk-label input.sk-toggleable__control:checked~label.sk-toggleable__label {background-color: #d4ebff;}#sk-container-id-11 input.sk-hidden--visually {border: 0;clip: rect(1px 1px 1px 1px);clip: rect(1px, 1px, 1px, 1px);height: 1px;margin: -1px;overflow: hidden;padding: 0;position: absolute;width: 1px;}#sk-container-id-11 div.sk-estimator {font-family: monospace;background-color: #f0f8ff;border: 1px dotted black;border-radius: 0.25em;box-sizing: border-box;margin-bottom: 0.5em;}#sk-container-id-11 div.sk-estimator:hover {background-color: #d4ebff;}#sk-container-id-11 div.sk-parallel-item::after {content: \"\";width: 100%;border-bottom: 1px solid gray;flex-grow: 1;}#sk-container-id-11 div.sk-label:hover label.sk-toggleable__label {background-color: #d4ebff;}#sk-container-id-11 div.sk-serial::before {content: \"\";position: absolute;border-left: 1px solid gray;box-sizing: border-box;top: 0;bottom: 0;left: 50%;z-index: 0;}#sk-container-id-11 div.sk-serial {display: flex;flex-direction: column;align-items: center;background-color: white;padding-right: 0.2em;padding-left: 0.2em;position: relative;}#sk-container-id-11 div.sk-item {position: relative;z-index: 1;}#sk-container-id-11 div.sk-parallel {display: flex;align-items: stretch;justify-content: center;background-color: white;position: relative;}#sk-container-id-11 div.sk-item::before, #sk-container-id-11 div.sk-parallel-item::before {content: \"\";position: absolute;border-left: 1px solid gray;box-sizing: border-box;top: 0;bottom: 0;left: 50%;z-index: -1;}#sk-container-id-11 div.sk-parallel-item {display: flex;flex-direction: column;z-index: 1;position: relative;background-color: white;}#sk-container-id-11 div.sk-parallel-item:first-child::after {align-self: flex-end;width: 50%;}#sk-container-id-11 div.sk-parallel-item:last-child::after {align-self: flex-start;width: 50%;}#sk-container-id-11 div.sk-parallel-item:only-child::after {width: 0;}#sk-container-id-11 div.sk-dashed-wrapped {border: 1px dashed gray;margin: 0 0.4em 0.5em 0.4em;box-sizing: border-box;padding-bottom: 0.4em;background-color: white;}#sk-container-id-11 div.sk-label label {font-family: monospace;font-weight: bold;display: inline-block;line-height: 1.2em;}#sk-container-id-11 div.sk-label-container {text-align: center;}#sk-container-id-11 div.sk-container {/* jupyter's `normalize.less` sets `[hidden] { display: none; }` but bootstrap.min.css set `[hidden] { display: none !important; }` so we also need the `!important` here to be able to override the default hidden behavior on the sphinx rendered scikit-learn.org. See: https://github.com/scikit-learn/scikit-learn/issues/21755 */display: inline-block !important;position: relative;}#sk-container-id-11 div.sk-text-repr-fallback {display: none;}</style><div id=\"sk-container-id-11\" class=\"sk-top-container\"><div class=\"sk-text-repr-fallback\"><pre>LogisticRegression(C=10, max_iter=1000, random_state=42, solver=&#x27;liblinear&#x27;)</pre><b>In a Jupyter environment, please rerun this cell to show the HTML representation or trust the notebook. <br />On GitHub, the HTML representation is unable to render, please try loading this page with nbviewer.org.</b></div><div class=\"sk-container\" hidden><div class=\"sk-item\"><div class=\"sk-estimator sk-toggleable\"><input class=\"sk-toggleable__control sk-hidden--visually\" id=\"sk-estimator-id-11\" type=\"checkbox\" checked><label for=\"sk-estimator-id-11\" class=\"sk-toggleable__label sk-toggleable__label-arrow\">LogisticRegression</label><div class=\"sk-toggleable__content\"><pre>LogisticRegression(C=10, max_iter=1000, random_state=42, solver=&#x27;liblinear&#x27;)</pre></div></div></div></div></div>"
      ],
      "text/plain": [
       "LogisticRegression(C=10, max_iter=1000, random_state=42, solver='liblinear')"
      ]
     },
     "execution_count": 120,
     "metadata": {},
     "output_type": "execute_result"
    }
   ],
   "source": [
    "model = LogisticRegression(solver='liblinear', C=10, max_iter=1000, random_state=42)\n",
    "model.fit(X_train, y_train)"
   ]
  },
  {
   "cell_type": "code",
   "execution_count": 121,
   "id": "3dd19411",
   "metadata": {},
   "outputs": [
    {
     "name": "stdout",
     "output_type": "stream",
     "text": [
      "Accuracy:  0.9479647503147294\n"
     ]
    }
   ],
   "source": [
    "# calculate model accuracy\n",
    "y_pred = model.predict_proba(X_val)[:, 1]\n",
    "print('Accuracy: ', accuracy_score(y_val, y_pred >= 0.5))"
   ]
  },
  {
   "cell_type": "markdown",
   "id": "c6aad587",
   "metadata": {},
   "source": [
    "*Remove engine_hp*"
   ]
  },
  {
   "cell_type": "code",
   "execution_count": 122,
   "id": "b82ceef7",
   "metadata": {},
   "outputs": [],
   "source": [
    "X_train = X_train_full\n",
    "X_val = X_val_full\n",
    "\n",
    "#delete second column\n",
    "X_train = np.delete(X_train,1,1)\n",
    "X_val = np.delete(X_val,1,1)"
   ]
  },
  {
   "cell_type": "code",
   "execution_count": 123,
   "id": "67fdd783",
   "metadata": {},
   "outputs": [
    {
     "data": {
      "text/html": [
       "<style>#sk-container-id-12 {color: black;background-color: white;}#sk-container-id-12 pre{padding: 0;}#sk-container-id-12 div.sk-toggleable {background-color: white;}#sk-container-id-12 label.sk-toggleable__label {cursor: pointer;display: block;width: 100%;margin-bottom: 0;padding: 0.3em;box-sizing: border-box;text-align: center;}#sk-container-id-12 label.sk-toggleable__label-arrow:before {content: \"▸\";float: left;margin-right: 0.25em;color: #696969;}#sk-container-id-12 label.sk-toggleable__label-arrow:hover:before {color: black;}#sk-container-id-12 div.sk-estimator:hover label.sk-toggleable__label-arrow:before {color: black;}#sk-container-id-12 div.sk-toggleable__content {max-height: 0;max-width: 0;overflow: hidden;text-align: left;background-color: #f0f8ff;}#sk-container-id-12 div.sk-toggleable__content pre {margin: 0.2em;color: black;border-radius: 0.25em;background-color: #f0f8ff;}#sk-container-id-12 input.sk-toggleable__control:checked~div.sk-toggleable__content {max-height: 200px;max-width: 100%;overflow: auto;}#sk-container-id-12 input.sk-toggleable__control:checked~label.sk-toggleable__label-arrow:before {content: \"▾\";}#sk-container-id-12 div.sk-estimator input.sk-toggleable__control:checked~label.sk-toggleable__label {background-color: #d4ebff;}#sk-container-id-12 div.sk-label input.sk-toggleable__control:checked~label.sk-toggleable__label {background-color: #d4ebff;}#sk-container-id-12 input.sk-hidden--visually {border: 0;clip: rect(1px 1px 1px 1px);clip: rect(1px, 1px, 1px, 1px);height: 1px;margin: -1px;overflow: hidden;padding: 0;position: absolute;width: 1px;}#sk-container-id-12 div.sk-estimator {font-family: monospace;background-color: #f0f8ff;border: 1px dotted black;border-radius: 0.25em;box-sizing: border-box;margin-bottom: 0.5em;}#sk-container-id-12 div.sk-estimator:hover {background-color: #d4ebff;}#sk-container-id-12 div.sk-parallel-item::after {content: \"\";width: 100%;border-bottom: 1px solid gray;flex-grow: 1;}#sk-container-id-12 div.sk-label:hover label.sk-toggleable__label {background-color: #d4ebff;}#sk-container-id-12 div.sk-serial::before {content: \"\";position: absolute;border-left: 1px solid gray;box-sizing: border-box;top: 0;bottom: 0;left: 50%;z-index: 0;}#sk-container-id-12 div.sk-serial {display: flex;flex-direction: column;align-items: center;background-color: white;padding-right: 0.2em;padding-left: 0.2em;position: relative;}#sk-container-id-12 div.sk-item {position: relative;z-index: 1;}#sk-container-id-12 div.sk-parallel {display: flex;align-items: stretch;justify-content: center;background-color: white;position: relative;}#sk-container-id-12 div.sk-item::before, #sk-container-id-12 div.sk-parallel-item::before {content: \"\";position: absolute;border-left: 1px solid gray;box-sizing: border-box;top: 0;bottom: 0;left: 50%;z-index: -1;}#sk-container-id-12 div.sk-parallel-item {display: flex;flex-direction: column;z-index: 1;position: relative;background-color: white;}#sk-container-id-12 div.sk-parallel-item:first-child::after {align-self: flex-end;width: 50%;}#sk-container-id-12 div.sk-parallel-item:last-child::after {align-self: flex-start;width: 50%;}#sk-container-id-12 div.sk-parallel-item:only-child::after {width: 0;}#sk-container-id-12 div.sk-dashed-wrapped {border: 1px dashed gray;margin: 0 0.4em 0.5em 0.4em;box-sizing: border-box;padding-bottom: 0.4em;background-color: white;}#sk-container-id-12 div.sk-label label {font-family: monospace;font-weight: bold;display: inline-block;line-height: 1.2em;}#sk-container-id-12 div.sk-label-container {text-align: center;}#sk-container-id-12 div.sk-container {/* jupyter's `normalize.less` sets `[hidden] { display: none; }` but bootstrap.min.css set `[hidden] { display: none !important; }` so we also need the `!important` here to be able to override the default hidden behavior on the sphinx rendered scikit-learn.org. See: https://github.com/scikit-learn/scikit-learn/issues/21755 */display: inline-block !important;position: relative;}#sk-container-id-12 div.sk-text-repr-fallback {display: none;}</style><div id=\"sk-container-id-12\" class=\"sk-top-container\"><div class=\"sk-text-repr-fallback\"><pre>LogisticRegression(C=10, max_iter=1000, random_state=42, solver=&#x27;liblinear&#x27;)</pre><b>In a Jupyter environment, please rerun this cell to show the HTML representation or trust the notebook. <br />On GitHub, the HTML representation is unable to render, please try loading this page with nbviewer.org.</b></div><div class=\"sk-container\" hidden><div class=\"sk-item\"><div class=\"sk-estimator sk-toggleable\"><input class=\"sk-toggleable__control sk-hidden--visually\" id=\"sk-estimator-id-12\" type=\"checkbox\" checked><label for=\"sk-estimator-id-12\" class=\"sk-toggleable__label sk-toggleable__label-arrow\">LogisticRegression</label><div class=\"sk-toggleable__content\"><pre>LogisticRegression(C=10, max_iter=1000, random_state=42, solver=&#x27;liblinear&#x27;)</pre></div></div></div></div></div>"
      ],
      "text/plain": [
       "LogisticRegression(C=10, max_iter=1000, random_state=42, solver='liblinear')"
      ]
     },
     "execution_count": 123,
     "metadata": {},
     "output_type": "execute_result"
    }
   ],
   "source": [
    "model = LogisticRegression(solver='liblinear', C=10, max_iter=1000, random_state=42)\n",
    "model.fit(X_train, y_train)"
   ]
  },
  {
   "cell_type": "code",
   "execution_count": 124,
   "id": "23b15d65",
   "metadata": {
    "scrolled": true
   },
   "outputs": [
    {
     "name": "stdout",
     "output_type": "stream",
     "text": [
      "Accuracy:  0.9232060428031893\n"
     ]
    }
   ],
   "source": [
    "# calculate model accuracy\n",
    "y_pred = model.predict_proba(X_val)[:, 1]\n",
    "print('Accuracy: ', accuracy_score(y_val, y_pred >= 0.5))"
   ]
  },
  {
   "cell_type": "markdown",
   "id": "ba20bd1b",
   "metadata": {},
   "source": [
    "*Remove transmission_type*"
   ]
  },
  {
   "cell_type": "code",
   "execution_count": 125,
   "id": "4963544f",
   "metadata": {},
   "outputs": [],
   "source": [
    "X_train = X_train_full\n",
    "X_val = X_val_full\n",
    "\n",
    "#delete second column\n",
    "X_train = np.delete(X_train,slice(922,927),1)\n",
    "X_val = np.delete(X_val,slice(922,927),1)"
   ]
  },
  {
   "cell_type": "code",
   "execution_count": 126,
   "id": "9c7067e4",
   "metadata": {},
   "outputs": [
    {
     "data": {
      "text/html": [
       "<style>#sk-container-id-13 {color: black;background-color: white;}#sk-container-id-13 pre{padding: 0;}#sk-container-id-13 div.sk-toggleable {background-color: white;}#sk-container-id-13 label.sk-toggleable__label {cursor: pointer;display: block;width: 100%;margin-bottom: 0;padding: 0.3em;box-sizing: border-box;text-align: center;}#sk-container-id-13 label.sk-toggleable__label-arrow:before {content: \"▸\";float: left;margin-right: 0.25em;color: #696969;}#sk-container-id-13 label.sk-toggleable__label-arrow:hover:before {color: black;}#sk-container-id-13 div.sk-estimator:hover label.sk-toggleable__label-arrow:before {color: black;}#sk-container-id-13 div.sk-toggleable__content {max-height: 0;max-width: 0;overflow: hidden;text-align: left;background-color: #f0f8ff;}#sk-container-id-13 div.sk-toggleable__content pre {margin: 0.2em;color: black;border-radius: 0.25em;background-color: #f0f8ff;}#sk-container-id-13 input.sk-toggleable__control:checked~div.sk-toggleable__content {max-height: 200px;max-width: 100%;overflow: auto;}#sk-container-id-13 input.sk-toggleable__control:checked~label.sk-toggleable__label-arrow:before {content: \"▾\";}#sk-container-id-13 div.sk-estimator input.sk-toggleable__control:checked~label.sk-toggleable__label {background-color: #d4ebff;}#sk-container-id-13 div.sk-label input.sk-toggleable__control:checked~label.sk-toggleable__label {background-color: #d4ebff;}#sk-container-id-13 input.sk-hidden--visually {border: 0;clip: rect(1px 1px 1px 1px);clip: rect(1px, 1px, 1px, 1px);height: 1px;margin: -1px;overflow: hidden;padding: 0;position: absolute;width: 1px;}#sk-container-id-13 div.sk-estimator {font-family: monospace;background-color: #f0f8ff;border: 1px dotted black;border-radius: 0.25em;box-sizing: border-box;margin-bottom: 0.5em;}#sk-container-id-13 div.sk-estimator:hover {background-color: #d4ebff;}#sk-container-id-13 div.sk-parallel-item::after {content: \"\";width: 100%;border-bottom: 1px solid gray;flex-grow: 1;}#sk-container-id-13 div.sk-label:hover label.sk-toggleable__label {background-color: #d4ebff;}#sk-container-id-13 div.sk-serial::before {content: \"\";position: absolute;border-left: 1px solid gray;box-sizing: border-box;top: 0;bottom: 0;left: 50%;z-index: 0;}#sk-container-id-13 div.sk-serial {display: flex;flex-direction: column;align-items: center;background-color: white;padding-right: 0.2em;padding-left: 0.2em;position: relative;}#sk-container-id-13 div.sk-item {position: relative;z-index: 1;}#sk-container-id-13 div.sk-parallel {display: flex;align-items: stretch;justify-content: center;background-color: white;position: relative;}#sk-container-id-13 div.sk-item::before, #sk-container-id-13 div.sk-parallel-item::before {content: \"\";position: absolute;border-left: 1px solid gray;box-sizing: border-box;top: 0;bottom: 0;left: 50%;z-index: -1;}#sk-container-id-13 div.sk-parallel-item {display: flex;flex-direction: column;z-index: 1;position: relative;background-color: white;}#sk-container-id-13 div.sk-parallel-item:first-child::after {align-self: flex-end;width: 50%;}#sk-container-id-13 div.sk-parallel-item:last-child::after {align-self: flex-start;width: 50%;}#sk-container-id-13 div.sk-parallel-item:only-child::after {width: 0;}#sk-container-id-13 div.sk-dashed-wrapped {border: 1px dashed gray;margin: 0 0.4em 0.5em 0.4em;box-sizing: border-box;padding-bottom: 0.4em;background-color: white;}#sk-container-id-13 div.sk-label label {font-family: monospace;font-weight: bold;display: inline-block;line-height: 1.2em;}#sk-container-id-13 div.sk-label-container {text-align: center;}#sk-container-id-13 div.sk-container {/* jupyter's `normalize.less` sets `[hidden] { display: none; }` but bootstrap.min.css set `[hidden] { display: none !important; }` so we also need the `!important` here to be able to override the default hidden behavior on the sphinx rendered scikit-learn.org. See: https://github.com/scikit-learn/scikit-learn/issues/21755 */display: inline-block !important;position: relative;}#sk-container-id-13 div.sk-text-repr-fallback {display: none;}</style><div id=\"sk-container-id-13\" class=\"sk-top-container\"><div class=\"sk-text-repr-fallback\"><pre>LogisticRegression(C=10, max_iter=1000, random_state=42, solver=&#x27;liblinear&#x27;)</pre><b>In a Jupyter environment, please rerun this cell to show the HTML representation or trust the notebook. <br />On GitHub, the HTML representation is unable to render, please try loading this page with nbviewer.org.</b></div><div class=\"sk-container\" hidden><div class=\"sk-item\"><div class=\"sk-estimator sk-toggleable\"><input class=\"sk-toggleable__control sk-hidden--visually\" id=\"sk-estimator-id-13\" type=\"checkbox\" checked><label for=\"sk-estimator-id-13\" class=\"sk-toggleable__label sk-toggleable__label-arrow\">LogisticRegression</label><div class=\"sk-toggleable__content\"><pre>LogisticRegression(C=10, max_iter=1000, random_state=42, solver=&#x27;liblinear&#x27;)</pre></div></div></div></div></div>"
      ],
      "text/plain": [
       "LogisticRegression(C=10, max_iter=1000, random_state=42, solver='liblinear')"
      ]
     },
     "execution_count": 126,
     "metadata": {},
     "output_type": "execute_result"
    }
   ],
   "source": [
    "model = LogisticRegression(solver='liblinear', C=10, max_iter=1000, random_state=42)\n",
    "model.fit(X_train, y_train)"
   ]
  },
  {
   "cell_type": "code",
   "execution_count": 127,
   "id": "d37617ce",
   "metadata": {
    "scrolled": true
   },
   "outputs": [
    {
     "name": "stdout",
     "output_type": "stream",
     "text": [
      "Accuracy:  0.9450272765421738\n"
     ]
    }
   ],
   "source": [
    "# calculate model accuracy\n",
    "y_pred = model.predict_proba(X_val)[:, 1]\n",
    "print('Accuracy: ', accuracy_score(y_val, y_pred >= 0.5))"
   ]
  },
  {
   "cell_type": "markdown",
   "id": "9a4cab1e",
   "metadata": {},
   "source": [
    "*Remove cty_mpg*"
   ]
  },
  {
   "cell_type": "code",
   "execution_count": 128,
   "id": "fb51ecd1",
   "metadata": {},
   "outputs": [],
   "source": [
    "X_train = X_train_full\n",
    "X_val = X_val_full\n",
    "\n",
    "#delete second column\n",
    "X_train = np.delete(X_train,4,1)\n",
    "X_val = np.delete(X_val,4,1)"
   ]
  },
  {
   "cell_type": "code",
   "execution_count": 129,
   "id": "67864df4",
   "metadata": {},
   "outputs": [
    {
     "data": {
      "text/html": [
       "<style>#sk-container-id-14 {color: black;background-color: white;}#sk-container-id-14 pre{padding: 0;}#sk-container-id-14 div.sk-toggleable {background-color: white;}#sk-container-id-14 label.sk-toggleable__label {cursor: pointer;display: block;width: 100%;margin-bottom: 0;padding: 0.3em;box-sizing: border-box;text-align: center;}#sk-container-id-14 label.sk-toggleable__label-arrow:before {content: \"▸\";float: left;margin-right: 0.25em;color: #696969;}#sk-container-id-14 label.sk-toggleable__label-arrow:hover:before {color: black;}#sk-container-id-14 div.sk-estimator:hover label.sk-toggleable__label-arrow:before {color: black;}#sk-container-id-14 div.sk-toggleable__content {max-height: 0;max-width: 0;overflow: hidden;text-align: left;background-color: #f0f8ff;}#sk-container-id-14 div.sk-toggleable__content pre {margin: 0.2em;color: black;border-radius: 0.25em;background-color: #f0f8ff;}#sk-container-id-14 input.sk-toggleable__control:checked~div.sk-toggleable__content {max-height: 200px;max-width: 100%;overflow: auto;}#sk-container-id-14 input.sk-toggleable__control:checked~label.sk-toggleable__label-arrow:before {content: \"▾\";}#sk-container-id-14 div.sk-estimator input.sk-toggleable__control:checked~label.sk-toggleable__label {background-color: #d4ebff;}#sk-container-id-14 div.sk-label input.sk-toggleable__control:checked~label.sk-toggleable__label {background-color: #d4ebff;}#sk-container-id-14 input.sk-hidden--visually {border: 0;clip: rect(1px 1px 1px 1px);clip: rect(1px, 1px, 1px, 1px);height: 1px;margin: -1px;overflow: hidden;padding: 0;position: absolute;width: 1px;}#sk-container-id-14 div.sk-estimator {font-family: monospace;background-color: #f0f8ff;border: 1px dotted black;border-radius: 0.25em;box-sizing: border-box;margin-bottom: 0.5em;}#sk-container-id-14 div.sk-estimator:hover {background-color: #d4ebff;}#sk-container-id-14 div.sk-parallel-item::after {content: \"\";width: 100%;border-bottom: 1px solid gray;flex-grow: 1;}#sk-container-id-14 div.sk-label:hover label.sk-toggleable__label {background-color: #d4ebff;}#sk-container-id-14 div.sk-serial::before {content: \"\";position: absolute;border-left: 1px solid gray;box-sizing: border-box;top: 0;bottom: 0;left: 50%;z-index: 0;}#sk-container-id-14 div.sk-serial {display: flex;flex-direction: column;align-items: center;background-color: white;padding-right: 0.2em;padding-left: 0.2em;position: relative;}#sk-container-id-14 div.sk-item {position: relative;z-index: 1;}#sk-container-id-14 div.sk-parallel {display: flex;align-items: stretch;justify-content: center;background-color: white;position: relative;}#sk-container-id-14 div.sk-item::before, #sk-container-id-14 div.sk-parallel-item::before {content: \"\";position: absolute;border-left: 1px solid gray;box-sizing: border-box;top: 0;bottom: 0;left: 50%;z-index: -1;}#sk-container-id-14 div.sk-parallel-item {display: flex;flex-direction: column;z-index: 1;position: relative;background-color: white;}#sk-container-id-14 div.sk-parallel-item:first-child::after {align-self: flex-end;width: 50%;}#sk-container-id-14 div.sk-parallel-item:last-child::after {align-self: flex-start;width: 50%;}#sk-container-id-14 div.sk-parallel-item:only-child::after {width: 0;}#sk-container-id-14 div.sk-dashed-wrapped {border: 1px dashed gray;margin: 0 0.4em 0.5em 0.4em;box-sizing: border-box;padding-bottom: 0.4em;background-color: white;}#sk-container-id-14 div.sk-label label {font-family: monospace;font-weight: bold;display: inline-block;line-height: 1.2em;}#sk-container-id-14 div.sk-label-container {text-align: center;}#sk-container-id-14 div.sk-container {/* jupyter's `normalize.less` sets `[hidden] { display: none; }` but bootstrap.min.css set `[hidden] { display: none !important; }` so we also need the `!important` here to be able to override the default hidden behavior on the sphinx rendered scikit-learn.org. See: https://github.com/scikit-learn/scikit-learn/issues/21755 */display: inline-block !important;position: relative;}#sk-container-id-14 div.sk-text-repr-fallback {display: none;}</style><div id=\"sk-container-id-14\" class=\"sk-top-container\"><div class=\"sk-text-repr-fallback\"><pre>LogisticRegression(C=10, max_iter=1000, random_state=42, solver=&#x27;liblinear&#x27;)</pre><b>In a Jupyter environment, please rerun this cell to show the HTML representation or trust the notebook. <br />On GitHub, the HTML representation is unable to render, please try loading this page with nbviewer.org.</b></div><div class=\"sk-container\" hidden><div class=\"sk-item\"><div class=\"sk-estimator sk-toggleable\"><input class=\"sk-toggleable__control sk-hidden--visually\" id=\"sk-estimator-id-14\" type=\"checkbox\" checked><label for=\"sk-estimator-id-14\" class=\"sk-toggleable__label sk-toggleable__label-arrow\">LogisticRegression</label><div class=\"sk-toggleable__content\"><pre>LogisticRegression(C=10, max_iter=1000, random_state=42, solver=&#x27;liblinear&#x27;)</pre></div></div></div></div></div>"
      ],
      "text/plain": [
       "LogisticRegression(C=10, max_iter=1000, random_state=42, solver='liblinear')"
      ]
     },
     "execution_count": 129,
     "metadata": {},
     "output_type": "execute_result"
    }
   ],
   "source": [
    "model = LogisticRegression(solver='liblinear', C=10, max_iter=1000, random_state=42)\n",
    "model.fit(X_train, y_train)"
   ]
  },
  {
   "cell_type": "code",
   "execution_count": 130,
   "id": "936fbd51",
   "metadata": {
    "scrolled": true
   },
   "outputs": [
    {
     "name": "stdout",
     "output_type": "stream",
     "text": [
      "Accuracy:  0.9324381032312211\n"
     ]
    }
   ],
   "source": [
    "# calculate model accuracy\n",
    "y_pred = model.predict_proba(X_val)[:, 1]\n",
    "print('Accuracy: ', accuracy_score(y_val, y_pred >= 0.5))"
   ]
  },
  {
   "cell_type": "markdown",
   "id": "351239b8",
   "metadata": {},
   "source": [
    "**6: Regression with Scikit-Learn. What's the best alpha?**"
   ]
  },
  {
   "cell_type": "code",
   "execution_count": 136,
   "id": "5bf07062",
   "metadata": {},
   "outputs": [],
   "source": [
    "df = df_copy"
   ]
  },
  {
   "cell_type": "code",
   "execution_count": 138,
   "id": "e3c7b32b",
   "metadata": {},
   "outputs": [
    {
     "data": {
      "text/html": [
       "<div>\n",
       "<style scoped>\n",
       "    .dataframe tbody tr th:only-of-type {\n",
       "        vertical-align: middle;\n",
       "    }\n",
       "\n",
       "    .dataframe tbody tr th {\n",
       "        vertical-align: top;\n",
       "    }\n",
       "\n",
       "    .dataframe thead th {\n",
       "        text-align: right;\n",
       "    }\n",
       "</style>\n",
       "<table border=\"1\" class=\"dataframe\">\n",
       "  <thead>\n",
       "    <tr style=\"text-align: right;\">\n",
       "      <th></th>\n",
       "      <th>make</th>\n",
       "      <th>model</th>\n",
       "      <th>year</th>\n",
       "      <th>engine_hp</th>\n",
       "      <th>engine_cylinders</th>\n",
       "      <th>transmission_type</th>\n",
       "      <th>vehicle_style</th>\n",
       "      <th>highway_mpg</th>\n",
       "      <th>city_mpg</th>\n",
       "      <th>price</th>\n",
       "    </tr>\n",
       "  </thead>\n",
       "  <tbody>\n",
       "    <tr>\n",
       "      <th>0</th>\n",
       "      <td>BMW</td>\n",
       "      <td>1 Series M</td>\n",
       "      <td>2011</td>\n",
       "      <td>335.0</td>\n",
       "      <td>6.0</td>\n",
       "      <td>MANUAL</td>\n",
       "      <td>Coupe</td>\n",
       "      <td>26</td>\n",
       "      <td>19</td>\n",
       "      <td>10.739327</td>\n",
       "    </tr>\n",
       "    <tr>\n",
       "      <th>1</th>\n",
       "      <td>BMW</td>\n",
       "      <td>1 Series</td>\n",
       "      <td>2011</td>\n",
       "      <td>300.0</td>\n",
       "      <td>6.0</td>\n",
       "      <td>MANUAL</td>\n",
       "      <td>Convertible</td>\n",
       "      <td>28</td>\n",
       "      <td>19</td>\n",
       "      <td>10.612754</td>\n",
       "    </tr>\n",
       "    <tr>\n",
       "      <th>2</th>\n",
       "      <td>BMW</td>\n",
       "      <td>1 Series</td>\n",
       "      <td>2011</td>\n",
       "      <td>300.0</td>\n",
       "      <td>6.0</td>\n",
       "      <td>MANUAL</td>\n",
       "      <td>Coupe</td>\n",
       "      <td>28</td>\n",
       "      <td>20</td>\n",
       "      <td>10.500949</td>\n",
       "    </tr>\n",
       "    <tr>\n",
       "      <th>3</th>\n",
       "      <td>BMW</td>\n",
       "      <td>1 Series</td>\n",
       "      <td>2011</td>\n",
       "      <td>230.0</td>\n",
       "      <td>6.0</td>\n",
       "      <td>MANUAL</td>\n",
       "      <td>Coupe</td>\n",
       "      <td>28</td>\n",
       "      <td>18</td>\n",
       "      <td>10.290449</td>\n",
       "    </tr>\n",
       "    <tr>\n",
       "      <th>4</th>\n",
       "      <td>BMW</td>\n",
       "      <td>1 Series</td>\n",
       "      <td>2011</td>\n",
       "      <td>230.0</td>\n",
       "      <td>6.0</td>\n",
       "      <td>MANUAL</td>\n",
       "      <td>Convertible</td>\n",
       "      <td>28</td>\n",
       "      <td>18</td>\n",
       "      <td>10.448715</td>\n",
       "    </tr>\n",
       "    <tr>\n",
       "      <th>...</th>\n",
       "      <td>...</td>\n",
       "      <td>...</td>\n",
       "      <td>...</td>\n",
       "      <td>...</td>\n",
       "      <td>...</td>\n",
       "      <td>...</td>\n",
       "      <td>...</td>\n",
       "      <td>...</td>\n",
       "      <td>...</td>\n",
       "      <td>...</td>\n",
       "    </tr>\n",
       "    <tr>\n",
       "      <th>11909</th>\n",
       "      <td>Acura</td>\n",
       "      <td>ZDX</td>\n",
       "      <td>2012</td>\n",
       "      <td>300.0</td>\n",
       "      <td>6.0</td>\n",
       "      <td>AUTOMATIC</td>\n",
       "      <td>4dr Hatchback</td>\n",
       "      <td>23</td>\n",
       "      <td>16</td>\n",
       "      <td>10.739002</td>\n",
       "    </tr>\n",
       "    <tr>\n",
       "      <th>11910</th>\n",
       "      <td>Acura</td>\n",
       "      <td>ZDX</td>\n",
       "      <td>2012</td>\n",
       "      <td>300.0</td>\n",
       "      <td>6.0</td>\n",
       "      <td>AUTOMATIC</td>\n",
       "      <td>4dr Hatchback</td>\n",
       "      <td>23</td>\n",
       "      <td>16</td>\n",
       "      <td>10.945000</td>\n",
       "    </tr>\n",
       "    <tr>\n",
       "      <th>11911</th>\n",
       "      <td>Acura</td>\n",
       "      <td>ZDX</td>\n",
       "      <td>2012</td>\n",
       "      <td>300.0</td>\n",
       "      <td>6.0</td>\n",
       "      <td>AUTOMATIC</td>\n",
       "      <td>4dr Hatchback</td>\n",
       "      <td>23</td>\n",
       "      <td>16</td>\n",
       "      <td>10.832102</td>\n",
       "    </tr>\n",
       "    <tr>\n",
       "      <th>11912</th>\n",
       "      <td>Acura</td>\n",
       "      <td>ZDX</td>\n",
       "      <td>2013</td>\n",
       "      <td>300.0</td>\n",
       "      <td>6.0</td>\n",
       "      <td>AUTOMATIC</td>\n",
       "      <td>4dr Hatchback</td>\n",
       "      <td>23</td>\n",
       "      <td>16</td>\n",
       "      <td>10.838011</td>\n",
       "    </tr>\n",
       "    <tr>\n",
       "      <th>11913</th>\n",
       "      <td>Lincoln</td>\n",
       "      <td>Zephyr</td>\n",
       "      <td>2006</td>\n",
       "      <td>221.0</td>\n",
       "      <td>6.0</td>\n",
       "      <td>AUTOMATIC</td>\n",
       "      <td>Sedan</td>\n",
       "      <td>26</td>\n",
       "      <td>17</td>\n",
       "      <td>10.274879</td>\n",
       "    </tr>\n",
       "  </tbody>\n",
       "</table>\n",
       "<p>11914 rows × 10 columns</p>\n",
       "</div>"
      ],
      "text/plain": [
       "          make       model  year  engine_hp  engine_cylinders  \\\n",
       "0          BMW  1 Series M  2011      335.0               6.0   \n",
       "1          BMW    1 Series  2011      300.0               6.0   \n",
       "2          BMW    1 Series  2011      300.0               6.0   \n",
       "3          BMW    1 Series  2011      230.0               6.0   \n",
       "4          BMW    1 Series  2011      230.0               6.0   \n",
       "...        ...         ...   ...        ...               ...   \n",
       "11909    Acura         ZDX  2012      300.0               6.0   \n",
       "11910    Acura         ZDX  2012      300.0               6.0   \n",
       "11911    Acura         ZDX  2012      300.0               6.0   \n",
       "11912    Acura         ZDX  2013      300.0               6.0   \n",
       "11913  Lincoln      Zephyr  2006      221.0               6.0   \n",
       "\n",
       "      transmission_type  vehicle_style  highway_mpg  city_mpg      price  \n",
       "0                MANUAL          Coupe           26        19  10.739327  \n",
       "1                MANUAL    Convertible           28        19  10.612754  \n",
       "2                MANUAL          Coupe           28        20  10.500949  \n",
       "3                MANUAL          Coupe           28        18  10.290449  \n",
       "4                MANUAL    Convertible           28        18  10.448715  \n",
       "...                 ...            ...          ...       ...        ...  \n",
       "11909         AUTOMATIC  4dr Hatchback           23        16  10.739002  \n",
       "11910         AUTOMATIC  4dr Hatchback           23        16  10.945000  \n",
       "11911         AUTOMATIC  4dr Hatchback           23        16  10.832102  \n",
       "11912         AUTOMATIC  4dr Hatchback           23        16  10.838011  \n",
       "11913         AUTOMATIC          Sedan           26        17  10.274879  \n",
       "\n",
       "[11914 rows x 10 columns]"
      ]
     },
     "execution_count": 138,
     "metadata": {},
     "output_type": "execute_result"
    }
   ],
   "source": [
    "df.price = np.log(df.price)\n",
    "df"
   ]
  },
  {
   "cell_type": "markdown",
   "id": "f0d1144b",
   "metadata": {},
   "source": [
    "*Split the data*"
   ]
  },
  {
   "cell_type": "code",
   "execution_count": 139,
   "id": "69d70144",
   "metadata": {},
   "outputs": [],
   "source": [
    "# setup train/validation/test split with Scikit-Learn\n",
    "df_full_train, df_test = train_test_split(df, test_size=0.2, random_state=42)\n",
    "df_train, df_val = train_test_split(df_full_train, test_size=0.25, random_state=42)"
   ]
  },
  {
   "cell_type": "code",
   "execution_count": 140,
   "id": "54afa5c7",
   "metadata": {
    "scrolled": true
   },
   "outputs": [
    {
     "data": {
      "text/plain": [
       "(7148, 2383, 2383)"
      ]
     },
     "execution_count": 140,
     "metadata": {},
     "output_type": "execute_result"
    }
   ],
   "source": [
    "len(df_train), len(df_val), len(df_test)"
   ]
  },
  {
   "cell_type": "code",
   "execution_count": 141,
   "id": "5f975755",
   "metadata": {},
   "outputs": [],
   "source": [
    "df_train = df_train.reset_index(drop=True)\n",
    "df_val = df_val.reset_index(drop=True)\n",
    "df_test = df_test.reset_index(drop=True)"
   ]
  },
  {
   "cell_type": "code",
   "execution_count": 142,
   "id": "ab7ca66b",
   "metadata": {},
   "outputs": [],
   "source": [
    "y_train = df_train.price.values\n",
    "y_val = df_val.price.values\n",
    "y_test = df_test.price.values\n",
    "\n",
    "del df_train['price']\n",
    "del df_val['price']\n",
    "del df_test['price']"
   ]
  },
  {
   "cell_type": "code",
   "execution_count": 145,
   "id": "fa767399",
   "metadata": {},
   "outputs": [
    {
     "data": {
      "text/html": [
       "<div>\n",
       "<style scoped>\n",
       "    .dataframe tbody tr th:only-of-type {\n",
       "        vertical-align: middle;\n",
       "    }\n",
       "\n",
       "    .dataframe tbody tr th {\n",
       "        vertical-align: top;\n",
       "    }\n",
       "\n",
       "    .dataframe thead th {\n",
       "        text-align: right;\n",
       "    }\n",
       "</style>\n",
       "<table border=\"1\" class=\"dataframe\">\n",
       "  <thead>\n",
       "    <tr style=\"text-align: right;\">\n",
       "      <th></th>\n",
       "      <th>make</th>\n",
       "      <th>model</th>\n",
       "      <th>year</th>\n",
       "      <th>engine_hp</th>\n",
       "      <th>engine_cylinders</th>\n",
       "      <th>transmission_type</th>\n",
       "      <th>vehicle_style</th>\n",
       "      <th>highway_mpg</th>\n",
       "      <th>city_mpg</th>\n",
       "      <th>price</th>\n",
       "    </tr>\n",
       "  </thead>\n",
       "  <tbody>\n",
       "    <tr>\n",
       "      <th>0</th>\n",
       "      <td>BMW</td>\n",
       "      <td>1 Series M</td>\n",
       "      <td>2011</td>\n",
       "      <td>335.0</td>\n",
       "      <td>6.0</td>\n",
       "      <td>MANUAL</td>\n",
       "      <td>Coupe</td>\n",
       "      <td>26</td>\n",
       "      <td>19</td>\n",
       "      <td>10.739327</td>\n",
       "    </tr>\n",
       "    <tr>\n",
       "      <th>1</th>\n",
       "      <td>BMW</td>\n",
       "      <td>1 Series</td>\n",
       "      <td>2011</td>\n",
       "      <td>300.0</td>\n",
       "      <td>6.0</td>\n",
       "      <td>MANUAL</td>\n",
       "      <td>Convertible</td>\n",
       "      <td>28</td>\n",
       "      <td>19</td>\n",
       "      <td>10.612754</td>\n",
       "    </tr>\n",
       "    <tr>\n",
       "      <th>2</th>\n",
       "      <td>BMW</td>\n",
       "      <td>1 Series</td>\n",
       "      <td>2011</td>\n",
       "      <td>300.0</td>\n",
       "      <td>6.0</td>\n",
       "      <td>MANUAL</td>\n",
       "      <td>Coupe</td>\n",
       "      <td>28</td>\n",
       "      <td>20</td>\n",
       "      <td>10.500949</td>\n",
       "    </tr>\n",
       "    <tr>\n",
       "      <th>3</th>\n",
       "      <td>BMW</td>\n",
       "      <td>1 Series</td>\n",
       "      <td>2011</td>\n",
       "      <td>230.0</td>\n",
       "      <td>6.0</td>\n",
       "      <td>MANUAL</td>\n",
       "      <td>Coupe</td>\n",
       "      <td>28</td>\n",
       "      <td>18</td>\n",
       "      <td>10.290449</td>\n",
       "    </tr>\n",
       "    <tr>\n",
       "      <th>4</th>\n",
       "      <td>BMW</td>\n",
       "      <td>1 Series</td>\n",
       "      <td>2011</td>\n",
       "      <td>230.0</td>\n",
       "      <td>6.0</td>\n",
       "      <td>MANUAL</td>\n",
       "      <td>Convertible</td>\n",
       "      <td>28</td>\n",
       "      <td>18</td>\n",
       "      <td>10.448715</td>\n",
       "    </tr>\n",
       "  </tbody>\n",
       "</table>\n",
       "</div>"
      ],
      "text/plain": [
       "  make       model  year  engine_hp  engine_cylinders transmission_type  \\\n",
       "0  BMW  1 Series M  2011      335.0               6.0            MANUAL   \n",
       "1  BMW    1 Series  2011      300.0               6.0            MANUAL   \n",
       "2  BMW    1 Series  2011      300.0               6.0            MANUAL   \n",
       "3  BMW    1 Series  2011      230.0               6.0            MANUAL   \n",
       "4  BMW    1 Series  2011      230.0               6.0            MANUAL   \n",
       "\n",
       "  vehicle_style  highway_mpg  city_mpg      price  \n",
       "0         Coupe           26        19  10.739327  \n",
       "1   Convertible           28        19  10.612754  \n",
       "2         Coupe           28        20  10.500949  \n",
       "3         Coupe           28        18  10.290449  \n",
       "4   Convertible           28        18  10.448715  "
      ]
     },
     "execution_count": 145,
     "metadata": {},
     "output_type": "execute_result"
    }
   ],
   "source": [
    "df.head()"
   ]
  },
  {
   "cell_type": "code",
   "execution_count": 151,
   "id": "c130865d",
   "metadata": {},
   "outputs": [
    {
     "data": {
      "text/plain": [
       "(2383,)"
      ]
     },
     "execution_count": 151,
     "metadata": {},
     "output_type": "execute_result"
    }
   ],
   "source": [
    "y_val.shape"
   ]
  },
  {
   "cell_type": "markdown",
   "id": "dab4f92c",
   "metadata": {},
   "source": [
    "*Setup numerical and catagorical features*"
   ]
  },
  {
   "cell_type": "code",
   "execution_count": 164,
   "id": "88083f6f",
   "metadata": {},
   "outputs": [],
   "source": [
    "# standardise numerical values\n",
    "X_train_num = df_train[num].values\n",
    "\n",
    "scaler = StandardScaler()\n",
    "#scaler = MinMaxScaler()\n",
    "\n",
    "X_train_num = scaler.fit_transform(X_train_num)"
   ]
  },
  {
   "cell_type": "code",
   "execution_count": 153,
   "id": "cbd33237",
   "metadata": {},
   "outputs": [
    {
     "data": {
      "text/html": [
       "<div>\n",
       "<style scoped>\n",
       "    .dataframe tbody tr th:only-of-type {\n",
       "        vertical-align: middle;\n",
       "    }\n",
       "\n",
       "    .dataframe tbody tr th {\n",
       "        vertical-align: top;\n",
       "    }\n",
       "\n",
       "    .dataframe thead th {\n",
       "        text-align: right;\n",
       "    }\n",
       "</style>\n",
       "<table border=\"1\" class=\"dataframe\">\n",
       "  <thead>\n",
       "    <tr style=\"text-align: right;\">\n",
       "      <th></th>\n",
       "      <th>make</th>\n",
       "      <th>model</th>\n",
       "      <th>transmission_type</th>\n",
       "      <th>vehicle_style</th>\n",
       "    </tr>\n",
       "  </thead>\n",
       "  <tbody>\n",
       "    <tr>\n",
       "      <th>0</th>\n",
       "      <td>BMW</td>\n",
       "      <td>1 Series M</td>\n",
       "      <td>MANUAL</td>\n",
       "      <td>Coupe</td>\n",
       "    </tr>\n",
       "    <tr>\n",
       "      <th>1</th>\n",
       "      <td>BMW</td>\n",
       "      <td>1 Series</td>\n",
       "      <td>MANUAL</td>\n",
       "      <td>Convertible</td>\n",
       "    </tr>\n",
       "    <tr>\n",
       "      <th>2</th>\n",
       "      <td>BMW</td>\n",
       "      <td>1 Series</td>\n",
       "      <td>MANUAL</td>\n",
       "      <td>Coupe</td>\n",
       "    </tr>\n",
       "    <tr>\n",
       "      <th>3</th>\n",
       "      <td>BMW</td>\n",
       "      <td>1 Series</td>\n",
       "      <td>MANUAL</td>\n",
       "      <td>Coupe</td>\n",
       "    </tr>\n",
       "    <tr>\n",
       "      <th>4</th>\n",
       "      <td>BMW</td>\n",
       "      <td>1 Series</td>\n",
       "      <td>MANUAL</td>\n",
       "      <td>Convertible</td>\n",
       "    </tr>\n",
       "  </tbody>\n",
       "</table>\n",
       "</div>"
      ],
      "text/plain": [
       "  make       model transmission_type vehicle_style\n",
       "0  BMW  1 Series M            MANUAL         Coupe\n",
       "1  BMW    1 Series            MANUAL   Convertible\n",
       "2  BMW    1 Series            MANUAL         Coupe\n",
       "3  BMW    1 Series            MANUAL         Coupe\n",
       "4  BMW    1 Series            MANUAL   Convertible"
      ]
     },
     "execution_count": 153,
     "metadata": {},
     "output_type": "execute_result"
    }
   ],
   "source": [
    "df[cat].head()"
   ]
  },
  {
   "cell_type": "code",
   "execution_count": 154,
   "id": "babe6813",
   "metadata": {},
   "outputs": [],
   "source": [
    "# perform one hot engoding on categorical values\n",
    "ohe = OneHotEncoder(sparse=False, handle_unknown='ignore')"
   ]
  },
  {
   "cell_type": "code",
   "execution_count": 155,
   "id": "ea9a9d30",
   "metadata": {},
   "outputs": [
    {
     "name": "stderr",
     "output_type": "stream",
     "text": [
      "/home/ubuntu/miniconda3/envs/jupyter_env/lib/python3.11/site-packages/sklearn/preprocessing/_encoders.py:868: FutureWarning: `sparse` was renamed to `sparse_output` in version 1.2 and will be removed in 1.4. `sparse_output` is ignored unless you leave `sparse` to its default value.\n",
      "  warnings.warn(\n"
     ]
    }
   ],
   "source": [
    "X_train_cat = ohe.fit_transform(df_train[cat].values)"
   ]
  },
  {
   "cell_type": "code",
   "execution_count": 156,
   "id": "e91677cb",
   "metadata": {},
   "outputs": [
    {
     "data": {
      "text/plain": [
       "array(['x0_Acura', 'x0_Alfa Romeo', 'x0_Aston Martin', 'x0_Audi',\n",
       "       'x0_BMW', 'x0_Bentley', 'x0_Bugatti', 'x0_Buick', 'x0_Cadillac',\n",
       "       'x0_Chevrolet', 'x0_Chrysler', 'x0_Dodge', 'x0_FIAT', 'x0_Ferrari',\n",
       "       'x0_Ford', 'x0_GMC', 'x0_Genesis', 'x0_HUMMER', 'x0_Honda',\n",
       "       'x0_Hyundai', 'x0_Infiniti', 'x0_Kia', 'x0_Lamborghini',\n",
       "       'x0_Land Rover', 'x0_Lexus', 'x0_Lincoln', 'x0_Lotus',\n",
       "       'x0_Maserati', 'x0_Maybach', 'x0_Mazda', 'x0_McLaren',\n",
       "       'x0_Mercedes-Benz', 'x0_Mitsubishi', 'x0_Nissan', 'x0_Oldsmobile',\n",
       "       'x0_Plymouth', 'x0_Pontiac', 'x0_Porsche', 'x0_Rolls-Royce',\n",
       "       'x0_Saab', 'x0_Scion', 'x0_Spyker', 'x0_Subaru', 'x0_Suzuki',\n",
       "       'x0_Tesla', 'x0_Toyota', 'x0_Volkswagen', 'x0_Volvo',\n",
       "       'x1_1 Series', 'x1_100', 'x1_124 Spider', 'x1_190-Class', 'x1_2',\n",
       "       'x1_2 Series', 'x1_200', 'x1_200SX', 'x1_240', 'x1_240SX', 'x1_3',\n",
       "       'x1_3 Series', 'x1_3 Series Gran Turismo', 'x1_300',\n",
       "       'x1_300-Class', 'x1_3000GT', 'x1_300M', 'x1_300ZX', 'x1_323',\n",
       "       'x1_350-Class', 'x1_350Z', 'x1_360', 'x1_370Z', 'x1_4 Series',\n",
       "       'x1_4 Series Gran Coupe', 'x1_400-Class', 'x1_420-Class',\n",
       "       'x1_456M', 'x1_458 Italia', 'x1_4C', 'x1_4Runner', 'x1_5',\n",
       "       'x1_5 Series', 'x1_5 Series Gran Turismo', 'x1_500',\n",
       "       'x1_500-Class', 'x1_500L', 'x1_500X', 'x1_500e', 'x1_550',\n",
       "       'x1_560-Class', 'x1_57', 'x1_570S', 'x1_575M', 'x1_599', 'x1_6',\n",
       "       'x1_6 Series', 'x1_6 Series Gran Coupe', 'x1_600-Class', 'x1_6000',\n",
       "       'x1_612 Scaglietti', 'x1_62', 'x1_626', 'x1_7 Series', 'x1_740',\n",
       "       'x1_760', 'x1_780', 'x1_8 Series', 'x1_80', 'x1_850', 'x1_9-2X',\n",
       "       'x1_9-3', 'x1_9-3 Griffin', 'x1_9-4X', 'x1_9-5', 'x1_9-7X',\n",
       "       'x1_90', 'x1_900', 'x1_9000', 'x1_911', 'x1_928', 'x1_929',\n",
       "       'x1_940', 'x1_944', 'x1_960', 'x1_968', 'x1_A3', 'x1_A4', 'x1_A5',\n",
       "       'x1_A6', 'x1_A7', 'x1_A8', 'x1_ALPINA B6 Gran Coupe',\n",
       "       'x1_ALPINA B7', 'x1_AMG GT', 'x1_ATS', 'x1_ATS Coupe', 'x1_Acadia',\n",
       "       'x1_Acadia Limited', 'x1_Accent', 'x1_Acclaim', 'x1_Accord',\n",
       "       'x1_Accord Crosstour', 'x1_Accord Hybrid',\n",
       "       'x1_Accord Plug-In Hybrid', 'x1_Achieva', 'x1_ActiveHybrid 5',\n",
       "       'x1_ActiveHybrid 7', 'x1_ActiveHybrid X6', 'x1_Aerio',\n",
       "       'x1_Aerostar', 'x1_Alero', 'x1_Allante', 'x1_Altima',\n",
       "       'x1_Altima Hybrid', 'x1_Amanti', 'x1_Armada', 'x1_Arnage',\n",
       "       'x1_Aspen', 'x1_Aspire', 'x1_Astro', 'x1_Astro Cargo', 'x1_Aurora',\n",
       "       'x1_Avalanche', 'x1_Avalon', 'x1_Avalon Hybrid', 'x1_Avenger',\n",
       "       'x1_Aventador', 'x1_Aveo', 'x1_Aviator', 'x1_Axxess', 'x1_Azera',\n",
       "       'x1_Aztek', 'x1_Azure', 'x1_Azure T', 'x1_B-Class Electric Drive',\n",
       "       'x1_B-Series', 'x1_B-Series Pickup', 'x1_B-Series Truck',\n",
       "       'x1_B9 Tribeca', 'x1_BRZ', 'x1_Baja', 'x1_Beetle',\n",
       "       'x1_Beetle Convertible', 'x1_Beretta',\n",
       "       'x1_Black Diamond Avalanche', 'x1_Blackwood', 'x1_Blazer',\n",
       "       'x1_Bonneville', 'x1_Borrego', 'x1_Boxster', 'x1_Bravada',\n",
       "       'x1_Breeze', 'x1_Bronco', 'x1_Bronco II', 'x1_Brooklands',\n",
       "       'x1_Brougham', 'x1_C-Class', 'x1_C-Max Hybrid',\n",
       "       'x1_C/K 1500 Series', 'x1_C/K 2500 Series', 'x1_C30', 'x1_C43 AMG',\n",
       "       'x1_C70', 'x1_C8', 'x1_CC', 'x1_CL', 'x1_CL-Class', 'x1_CLA-Class',\n",
       "       'x1_CLK-Class', 'x1_CLS-Class', 'x1_CR-V', 'x1_CR-Z', 'x1_CT6',\n",
       "       'x1_CTS', 'x1_CTS Coupe', 'x1_CTS Wagon', 'x1_CTS-V',\n",
       "       'x1_CTS-V Coupe', 'x1_CTS-V Wagon', 'x1_CX-3', 'x1_CX-5',\n",
       "       'x1_CX-7', 'x1_CX-9', 'x1_Cabrio', 'x1_Cabriolet', 'x1_Cadenza',\n",
       "       'x1_Caliber', 'x1_Camaro', 'x1_Camry', 'x1_Camry Hybrid',\n",
       "       'x1_Camry Solara', 'x1_Canyon', 'x1_Caprice', 'x1_Captiva Sport',\n",
       "       'x1_Caravan', 'x1_Carrera GT', 'x1_Cascada', 'x1_Catera',\n",
       "       'x1_Cavalier', 'x1_Cayenne', 'x1_Cayman', 'x1_Cayman S',\n",
       "       'x1_Celebrity', 'x1_Celica', 'x1_Century', 'x1_Challenger',\n",
       "       'x1_Charger', 'x1_Chevy Van', 'x1_City Express', 'x1_Civic',\n",
       "       'x1_Civic CRX', 'x1_Civic del Sol', 'x1_Classic', 'x1_Cobalt',\n",
       "       'x1_Colorado', 'x1_Colt', 'x1_Concorde', 'x1_Continental',\n",
       "       'x1_Continental Flying Spur', 'x1_Continental Flying Spur Speed',\n",
       "       'x1_Continental GT', 'x1_Continental GT Speed',\n",
       "       'x1_Continental GT Speed Convertible', 'x1_Continental GTC',\n",
       "       'x1_Continental GTC Speed', 'x1_Continental Supersports',\n",
       "       'x1_Continental Supersports Convertible', 'x1_Contour',\n",
       "       'x1_Corniche', 'x1_Corolla', 'x1_Corolla iM', 'x1_Corrado',\n",
       "       'x1_Corvette', 'x1_Corvette Stingray', 'x1_Coupe', 'x1_Cressida',\n",
       "       'x1_Crossfire', 'x1_Crosstour', 'x1_Crosstrek',\n",
       "       'x1_Crown Victoria', 'x1_Cruze', 'x1_Cruze Limited', 'x1_Cube',\n",
       "       'x1_Custom Cruiser', 'x1_Cutlass', 'x1_Cutlass Calais',\n",
       "       'x1_Cutlass Ciera', 'x1_Cutlass Supreme', 'x1_DB9', 'x1_DB9 GT',\n",
       "       'x1_DBS', 'x1_DTS', 'x1_Dakota', 'x1_Dart', 'x1_Dawn',\n",
       "       'x1_Daytona', 'x1_DeVille', 'x1_Defender', 'x1_Diablo',\n",
       "       'x1_Diamante', 'x1_Discovery', 'x1_Discovery Series II',\n",
       "       'x1_Discovery Sport', 'x1_Durango', 'x1_Dynasty', 'x1_E-150',\n",
       "       'x1_E-250', 'x1_E-Class', 'x1_E-Series Van', 'x1_E-Series Wagon',\n",
       "       'x1_E55 AMG', 'x1_ECHO', 'x1_ES 250', 'x1_ES 300', 'x1_ES 300h',\n",
       "       'x1_EX', 'x1_EX35', 'x1_Eclipse', 'x1_Eclipse Spyder', 'x1_Edge',\n",
       "       'x1_Eighty-Eight', 'x1_Eighty-Eight Royale', 'x1_Elantra',\n",
       "       'x1_Elantra Coupe', 'x1_Elantra GT', 'x1_Elantra Touring',\n",
       "       'x1_Eldorado', 'x1_Electra', 'x1_Element', 'x1_Elise',\n",
       "       'x1_Enclave', 'x1_Encore', 'x1_Endeavor', 'x1_Entourage',\n",
       "       'x1_Envision', 'x1_Envoy', 'x1_Envoy XL', 'x1_Envoy XUV', 'x1_Eos',\n",
       "       'x1_Equator', 'x1_Equinox', 'x1_Equus', 'x1_Escalade',\n",
       "       'x1_Escalade ESV', 'x1_Escalade EXT', 'x1_Escalade Hybrid',\n",
       "       'x1_Escape', 'x1_Escape Hybrid', 'x1_Escort', 'x1_Esprit',\n",
       "       'x1_Esteem', 'x1_EuroVan', 'x1_Evora', 'x1_Excel', 'x1_Exige',\n",
       "       'x1_Expedition', 'x1_Explorer', 'x1_Explorer Sport',\n",
       "       'x1_Explorer Sport Trac', 'x1_Expo', 'x1_Express',\n",
       "       'x1_Express Cargo', 'x1_F-150', 'x1_F-150 Heritage',\n",
       "       'x1_F-150 SVT Lightning', 'x1_F-250', 'x1_F12 Berlinetta',\n",
       "       'x1_F430', 'x1_FF', 'x1_FJ Cruiser', 'x1_FR-S', 'x1_FX', 'x1_FX35',\n",
       "       'x1_FX45', 'x1_FX50', 'x1_Festiva', 'x1_Fiesta', 'x1_Firebird',\n",
       "       'x1_Fit', 'x1_Five Hundred', 'x1_Fleetwood', 'x1_Flex',\n",
       "       'x1_Flying Spur', 'x1_Focus', 'x1_Focus ST', 'x1_Forenza',\n",
       "       'x1_Forester', 'x1_Forte', 'x1_Fox', 'x1_Freelander',\n",
       "       'x1_Freestar', 'x1_Freestyle', 'x1_Frontier', 'x1_Fusion',\n",
       "       'x1_Fusion Hybrid', 'x1_G Convertible', 'x1_G Coupe', 'x1_G Sedan',\n",
       "       'x1_G-Class', 'x1_G20', 'x1_G3', 'x1_G35', 'x1_G37',\n",
       "       'x1_G37 Convertible', 'x1_G37 Coupe', 'x1_G37 Sedan', 'x1_G5',\n",
       "       'x1_G6', 'x1_G8', 'x1_G80', 'x1_GL-Class', 'x1_GLA-Class',\n",
       "       'x1_GLC-Class', 'x1_GLE-Class', 'x1_GLE-Class Coupe', 'x1_GLI',\n",
       "       'x1_GLK-Class', 'x1_GLS-Class', 'x1_GS 200t', 'x1_GS 300',\n",
       "       'x1_GS 350', 'x1_GS 400', 'x1_GS 430', 'x1_GS 450h', 'x1_GS 460',\n",
       "       'x1_GT', 'x1_GT-R', 'x1_GTI', 'x1_GTO', 'x1_GX 460', 'x1_GX 470',\n",
       "       'x1_Galant', 'x1_Gallardo', 'x1_Genesis', 'x1_Genesis Coupe',\n",
       "       'x1_Ghibli', 'x1_Ghost', 'x1_Ghost Series II', 'x1_Golf',\n",
       "       'x1_Golf Alltrack', 'x1_Golf GTI', 'x1_Golf R',\n",
       "       'x1_Golf SportWagen', 'x1_GranSport', 'x1_GranTurismo',\n",
       "       'x1_GranTurismo Convertible', 'x1_Grand Am', 'x1_Grand Caravan',\n",
       "       'x1_Grand Prix', 'x1_Grand Vitara', 'x1_Grand Voyager', 'x1_H3',\n",
       "       'x1_H3T', 'x1_HHR', 'x1_HR-V', 'x1_HS 250h', 'x1_Highlander',\n",
       "       'x1_Highlander Hybrid', 'x1_Horizon', 'x1_Huracan', 'x1_I30',\n",
       "       'x1_I35', 'x1_ILX', 'x1_ILX Hybrid', 'x1_IS 200t', 'x1_IS 250',\n",
       "       'x1_IS 250 C', 'x1_IS 300', 'x1_IS 350', 'x1_IS 350 C', 'x1_IS F',\n",
       "       'x1_Impala', 'x1_Impala Limited', 'x1_Imperial', 'x1_Impreza',\n",
       "       'x1_Impreza WRX', 'x1_Insight', 'x1_Integra', 'x1_Intrepid',\n",
       "       'x1_Intrigue', 'x1_J30', 'x1_JX', 'x1_Jetta', 'x1_Jetta GLI',\n",
       "       'x1_Jetta Hybrid', 'x1_Jetta SportWagen', 'x1_Jimmy', 'x1_Journey',\n",
       "       'x1_Juke', 'x1_Justy', 'x1_K900', 'x1_Kizashi', 'x1_LFA', 'x1_LHS',\n",
       "       'x1_LR2', 'x1_LR3', 'x1_LR4', 'x1_LS', 'x1_LS 400', 'x1_LS 430',\n",
       "       'x1_LS 460', 'x1_LS 600h L', 'x1_LSS', 'x1_LTD Crown Victoria',\n",
       "       'x1_LX 450', 'x1_LX 470', 'x1_LX 570', 'x1_LaCrosse', 'x1_Lancer',\n",
       "       'x1_Lancer Evolution', 'x1_Lancer Sportback', 'x1_Land Cruiser',\n",
       "       'x1_Laser', 'x1_Le Baron', 'x1_Le Mans', 'x1_LeSabre', 'x1_Leaf',\n",
       "       'x1_Legacy', 'x1_Legend', 'x1_Levante', 'x1_Loyale', 'x1_Lucerne',\n",
       "       'x1_Lumina', 'x1_Lumina Minivan', 'x1_M', 'x1_M-Class', 'x1_M2',\n",
       "       'x1_M3', 'x1_M30', 'x1_M35', 'x1_M37', 'x1_M4', 'x1_M45', 'x1_M5',\n",
       "       'x1_M56', 'x1_M6', 'x1_M6 Gran Coupe', 'x1_MDX', 'x1_MKC',\n",
       "       'x1_MKS', 'x1_MKT', 'x1_MKX', 'x1_MKZ', 'x1_MKZ Hybrid',\n",
       "       'x1_MP4-12C', 'x1_MPV', 'x1_MR2', 'x1_MR2 Spyder', 'x1_MX-3',\n",
       "       'x1_MX-5 Miata', 'x1_MX-6', 'x1_Macan', 'x1_Magnum', 'x1_Malibu',\n",
       "       'x1_Malibu Classic', 'x1_Malibu Hybrid', 'x1_Malibu Limited',\n",
       "       'x1_Malibu Maxx', 'x1_Mark LT', 'x1_Mark VII', 'x1_Mark VIII',\n",
       "       'x1_Matrix', 'x1_Maxima', 'x1_Maybach', 'x1_Mazdaspeed 3',\n",
       "       'x1_Mazdaspeed MX-5 Miata', 'x1_Mazdaspeed Protege', 'x1_Metris',\n",
       "       'x1_Metro', 'x1_Mighty Max Pickup', 'x1_Millenia', 'x1_Mirage',\n",
       "       'x1_Mirage G4', 'x1_Model S', 'x1_Monaco', 'x1_Montana',\n",
       "       'x1_Montana SV6', 'x1_Monte Carlo', 'x1_Montero',\n",
       "       'x1_Montero Sport', 'x1_Mulsanne', 'x1_Murano',\n",
       "       'x1_Murano CrossCabriolet', 'x1_Murcielago', 'x1_Mustang',\n",
       "       'x1_Mustang SVT Cobra', 'x1_NSX', 'x1_NV200', 'x1_NX',\n",
       "       'x1_NX 200t', 'x1_NX 300h', 'x1_Navajo', 'x1_Navigator', 'x1_Neon',\n",
       "       'x1_New Beetle', 'x1_New Yorker', 'x1_Ninety-Eight', 'x1_Nitro',\n",
       "       'x1_Odyssey', 'x1_Omni', 'x1_Optima', 'x1_Optima Hybrid',\n",
       "       'x1_Outback', 'x1_Outlander', 'x1_Outlander Sport',\n",
       "       'x1_PT Cruiser', 'x1_Pacifica', 'x1_Panamera', 'x1_Park Avenue',\n",
       "       'x1_Paseo', 'x1_Passat', 'x1_Passport', 'x1_Pathfinder',\n",
       "       'x1_Phaeton', 'x1_Phantom', 'x1_Phantom Coupe',\n",
       "       'x1_Phantom Drophead Coupe', 'x1_Pickup', 'x1_Pilot', 'x1_Precis',\n",
       "       'x1_Prelude', 'x1_Previa', 'x1_Prius', 'x1_Prius Prime',\n",
       "       'x1_Prius c', 'x1_Prius v', 'x1_Prizm', 'x1_Probe', 'x1_Protege',\n",
       "       'x1_Protege5', 'x1_Prowler', 'x1_Q3', 'x1_Q40', 'x1_Q45', 'x1_Q5',\n",
       "       'x1_Q50', 'x1_Q60 Convertible', 'x1_Q60 Coupe', 'x1_Q7', 'x1_Q70',\n",
       "       'x1_QX', 'x1_QX4', 'x1_QX50', 'x1_QX56', 'x1_QX60', 'x1_QX70',\n",
       "       'x1_QX80', 'x1_Quattroporte', 'x1_Quest', 'x1_R-Class', 'x1_R32',\n",
       "       'x1_R8', 'x1_RAM 150', 'x1_RAM 250', 'x1_RAV4', 'x1_RAV4 EV',\n",
       "       'x1_RAV4 Hybrid', 'x1_RC 200t', 'x1_RC 300', 'x1_RC 350', 'x1_RDX',\n",
       "       'x1_RL', 'x1_RLX', 'x1_RS 4', 'x1_RS 5', 'x1_RS 7', 'x1_RSX',\n",
       "       'x1_RX 300', 'x1_RX 330', 'x1_RX 350', 'x1_RX 400h', 'x1_RX 450h',\n",
       "       'x1_RX-7', 'x1_RX-8', 'x1_Rabbit', 'x1_Raider', 'x1_Rainier',\n",
       "       'x1_Rally Wagon', 'x1_Ram 50 Pickup', 'x1_Ram Cargo',\n",
       "       'x1_Ram Pickup 1500', 'x1_Ram Van', 'x1_Ram Wagon',\n",
       "       'x1_Ramcharger', 'x1_Range Rover', 'x1_Range Rover Evoque',\n",
       "       'x1_Range Rover Sport', 'x1_Ranger', 'x1_Rapide', 'x1_Rapide S',\n",
       "       'x1_Reatta', 'x1_Regal', 'x1_Regency', 'x1_Rendezvous', 'x1_Reno',\n",
       "       'x1_Reventon', 'x1_Ridgeline', 'x1_Rio', 'x1_Riviera',\n",
       "       'x1_Roadmaster', 'x1_Rogue', 'x1_Rogue Select', 'x1_Rondo',\n",
       "       'x1_Routan', 'x1_S-10', 'x1_S-10 Blazer', 'x1_S-15',\n",
       "       'x1_S-15 Jimmy', 'x1_S-Class', 'x1_S2000', 'x1_S3', 'x1_S4',\n",
       "       'x1_S40', 'x1_S5', 'x1_S6', 'x1_S60', 'x1_S60 Cross Country',\n",
       "       'x1_S7', 'x1_S70', 'x1_S8', 'x1_S80', 'x1_S90', 'x1_SC 300',\n",
       "       'x1_SC 400', 'x1_SC 430', 'x1_SL-Class', 'x1_SLC-Class',\n",
       "       'x1_SLK-Class', 'x1_SLR McLaren', 'x1_SLS AMG', 'x1_SLS AMG GT',\n",
       "       'x1_SLS AMG GT Final Edition', 'x1_SLX', 'x1_SQ5', 'x1_SRT Viper',\n",
       "       'x1_SRX', 'x1_STS', 'x1_STS-V', 'x1_SVX', 'x1_SX4', 'x1_Safari',\n",
       "       'x1_Safari Cargo', 'x1_Samurai', 'x1_Santa Fe',\n",
       "       'x1_Santa Fe Sport', 'x1_Savana', 'x1_Savana Cargo', 'x1_Scoupe',\n",
       "       'x1_Sebring', 'x1_Sedona', 'x1_Sentra', 'x1_Sephia', 'x1_Sequoia',\n",
       "       'x1_Seville', 'x1_Shadow', 'x1_Shelby GT350', 'x1_Shelby GT500',\n",
       "       'x1_Sidekick', 'x1_Sienna', 'x1_Sierra 1500',\n",
       "       'x1_Sierra 1500 Classic', 'x1_Sierra 1500 Hybrid',\n",
       "       'x1_Sierra 1500HD', 'x1_Sierra C3', 'x1_Sierra Classic 1500',\n",
       "       'x1_Sigma', 'x1_Silhouette', 'x1_Silver Seraph',\n",
       "       'x1_Silverado 1500', 'x1_Silverado 1500 Classic',\n",
       "       'x1_Silverado 1500 Hybrid', 'x1_Skylark', 'x1_Solstice',\n",
       "       'x1_Sonata', 'x1_Sonata Hybrid', 'x1_Sonic', 'x1_Sonoma',\n",
       "       'x1_Sorento', 'x1_Soul', 'x1_Soul EV', 'x1_Spark', 'x1_Spark EV',\n",
       "       'x1_Spectra', 'x1_Spirit', 'x1_Sportage', 'x1_Sportvan',\n",
       "       'x1_Spyder', 'x1_Stanza', 'x1_Stealth', 'x1_Stratus',\n",
       "       'x1_Suburban', 'x1_Sunbird', 'x1_Sundance', 'x1_Sunfire',\n",
       "       'x1_Supra', 'x1_Swift', 'x1_Syclone', 'x1_T100', 'x1_TL', 'x1_TLX',\n",
       "       'x1_TSX', 'x1_TSX Sport Wagon', 'x1_TT', 'x1_TTS', 'x1_Tacoma',\n",
       "       'x1_Tahoe', 'x1_Tahoe Hybrid', 'x1_Tahoe Limited/Z71', 'x1_Taurus',\n",
       "       'x1_Taurus X', 'x1_Tempo', 'x1_Tercel', 'x1_Terrain', 'x1_Terraza',\n",
       "       'x1_Thunderbird', 'x1_Tiburon', 'x1_Tiguan', 'x1_Titan',\n",
       "       'x1_Toronado', 'x1_Torrent', 'x1_Touareg', 'x1_Touareg 2',\n",
       "       'x1_Town Car', 'x1_Town and Country', 'x1_Tracker',\n",
       "       'x1_TrailBlazer', 'x1_TrailBlazer EXT', 'x1_Trans Sport',\n",
       "       'x1_Transit Connect', 'x1_Transit Wagon', 'x1_Traverse', 'x1_Trax',\n",
       "       'x1_Tribeca', 'x1_Tribute', 'x1_Tribute Hybrid', 'x1_Truck',\n",
       "       'x1_Tucson', 'x1_Tundra', 'x1_Typhoon', 'x1_Uplander',\n",
       "       'x1_V12 Vanquish', 'x1_V12 Vantage', 'x1_V12 Vantage S', 'x1_V40',\n",
       "       'x1_V50', 'x1_V60', 'x1_V60 Cross Country', 'x1_V70',\n",
       "       'x1_V8 Vantage', 'x1_Van', 'x1_Vanagon', 'x1_Vandura',\n",
       "       'x1_Vanquish', 'x1_Vanwagon', 'x1_Veloster', 'x1_Venture',\n",
       "       'x1_Venza', 'x1_Veracruz', 'x1_Verano', 'x1_Verona', 'x1_Versa',\n",
       "       'x1_Versa Note', 'x1_Veyron 16.4', 'x1_Vibe', 'x1_Vigor',\n",
       "       'x1_Viper', 'x1_Virage', 'x1_Vitara', 'x1_Voyager', 'x1_WRX',\n",
       "       'x1_Windstar', 'x1_Windstar Cargo', 'x1_Wraith', 'x1_X-90',\n",
       "       'x1_X1', 'x1_X3', 'x1_X4', 'x1_X5', 'x1_X5 M', 'x1_X6', 'x1_X6 M',\n",
       "       'x1_XC', 'x1_XC60', 'x1_XC70', 'x1_XC90', 'x1_XG300', 'x1_XG350',\n",
       "       'x1_XL-7', 'x1_XL7', 'x1_XLR', 'x1_XLR-V', 'x1_XT', 'x1_XT5',\n",
       "       'x1_XTS', 'x1_XV Crosstrek', 'x1_Xterra', 'x1_Yaris',\n",
       "       'x1_Yaris iA', 'x1_Yukon', 'x1_Yukon Denali', 'x1_Yukon Hybrid',\n",
       "       'x1_Yukon XL', 'x1_Z3', 'x1_Z4', 'x1_Z4 M', 'x1_Z8', 'x1_ZDX',\n",
       "       'x1_allroad', 'x1_allroad quattro', 'x1_e-Golf', 'x1_i-MiEV',\n",
       "       'x1_i3', 'x1_iA', 'x1_iQ', 'x1_tC', 'x1_xA', 'x1_xB', 'x1_xD',\n",
       "       'x2_AUTOMATED_MANUAL', 'x2_AUTOMATIC', 'x2_DIRECT_DRIVE',\n",
       "       'x2_MANUAL', 'x2_UNKNOWN', 'x3_2dr Hatchback', 'x3_2dr SUV',\n",
       "       'x3_4dr Hatchback', 'x3_4dr SUV', 'x3_Cargo Minivan',\n",
       "       'x3_Cargo Van', 'x3_Convertible', 'x3_Convertible SUV', 'x3_Coupe',\n",
       "       'x3_Crew Cab Pickup', 'x3_Extended Cab Pickup',\n",
       "       'x3_Passenger Minivan', 'x3_Passenger Van',\n",
       "       'x3_Regular Cab Pickup', 'x3_Sedan', 'x3_Wagon'], dtype=object)"
      ]
     },
     "execution_count": 156,
     "metadata": {},
     "output_type": "execute_result"
    }
   ],
   "source": [
    "ohe.get_feature_names_out()"
   ]
  },
  {
   "cell_type": "code",
   "execution_count": 166,
   "id": "9eb987e7",
   "metadata": {},
   "outputs": [
    {
     "data": {
      "text/plain": [
       "array([[2.011e+03, 2.250e+02, 6.000e+00, ..., 0.000e+00, 0.000e+00,\n",
       "        0.000e+00],\n",
       "       [2.009e+03, 2.760e+02, 6.000e+00, ..., 0.000e+00, 0.000e+00,\n",
       "        0.000e+00],\n",
       "       [2.012e+03, 5.700e+02, 1.000e+01, ..., 0.000e+00, 0.000e+00,\n",
       "        0.000e+00],\n",
       "       ...,\n",
       "       [2.012e+03, 2.600e+02, 6.000e+00, ..., 0.000e+00, 0.000e+00,\n",
       "        0.000e+00],\n",
       "       [1.993e+03, 1.360e+02, 4.000e+00, ..., 0.000e+00, 0.000e+00,\n",
       "        0.000e+00],\n",
       "       [2.015e+03, 3.650e+02, 6.000e+00, ..., 0.000e+00, 1.000e+00,\n",
       "        0.000e+00]])"
      ]
     },
     "execution_count": 166,
     "metadata": {},
     "output_type": "execute_result"
    }
   ],
   "source": [
    "X_train"
   ]
  },
  {
   "cell_type": "raw",
   "id": "50f0d859",
   "metadata": {},
   "source": [
    "# concatenate X_train_num and X_train_cat]\n",
    "X_train = np.column_stack([X_train_num, X_train_cat])"
   ]
  },
  {
   "cell_type": "code",
   "execution_count": 168,
   "id": "57b543bd",
   "metadata": {},
   "outputs": [
    {
     "name": "stderr",
     "output_type": "stream",
     "text": [
      "/home/ubuntu/miniconda3/envs/jupyter_env/lib/python3.11/site-packages/sklearn/linear_model/_sag.py:350: ConvergenceWarning: The max_iter was reached which means the coef_ did not converge\n",
      "  warnings.warn(\n"
     ]
    },
    {
     "data": {
      "text/html": [
       "<style>#sk-container-id-17 {color: black;background-color: white;}#sk-container-id-17 pre{padding: 0;}#sk-container-id-17 div.sk-toggleable {background-color: white;}#sk-container-id-17 label.sk-toggleable__label {cursor: pointer;display: block;width: 100%;margin-bottom: 0;padding: 0.3em;box-sizing: border-box;text-align: center;}#sk-container-id-17 label.sk-toggleable__label-arrow:before {content: \"▸\";float: left;margin-right: 0.25em;color: #696969;}#sk-container-id-17 label.sk-toggleable__label-arrow:hover:before {color: black;}#sk-container-id-17 div.sk-estimator:hover label.sk-toggleable__label-arrow:before {color: black;}#sk-container-id-17 div.sk-toggleable__content {max-height: 0;max-width: 0;overflow: hidden;text-align: left;background-color: #f0f8ff;}#sk-container-id-17 div.sk-toggleable__content pre {margin: 0.2em;color: black;border-radius: 0.25em;background-color: #f0f8ff;}#sk-container-id-17 input.sk-toggleable__control:checked~div.sk-toggleable__content {max-height: 200px;max-width: 100%;overflow: auto;}#sk-container-id-17 input.sk-toggleable__control:checked~label.sk-toggleable__label-arrow:before {content: \"▾\";}#sk-container-id-17 div.sk-estimator input.sk-toggleable__control:checked~label.sk-toggleable__label {background-color: #d4ebff;}#sk-container-id-17 div.sk-label input.sk-toggleable__control:checked~label.sk-toggleable__label {background-color: #d4ebff;}#sk-container-id-17 input.sk-hidden--visually {border: 0;clip: rect(1px 1px 1px 1px);clip: rect(1px, 1px, 1px, 1px);height: 1px;margin: -1px;overflow: hidden;padding: 0;position: absolute;width: 1px;}#sk-container-id-17 div.sk-estimator {font-family: monospace;background-color: #f0f8ff;border: 1px dotted black;border-radius: 0.25em;box-sizing: border-box;margin-bottom: 0.5em;}#sk-container-id-17 div.sk-estimator:hover {background-color: #d4ebff;}#sk-container-id-17 div.sk-parallel-item::after {content: \"\";width: 100%;border-bottom: 1px solid gray;flex-grow: 1;}#sk-container-id-17 div.sk-label:hover label.sk-toggleable__label {background-color: #d4ebff;}#sk-container-id-17 div.sk-serial::before {content: \"\";position: absolute;border-left: 1px solid gray;box-sizing: border-box;top: 0;bottom: 0;left: 50%;z-index: 0;}#sk-container-id-17 div.sk-serial {display: flex;flex-direction: column;align-items: center;background-color: white;padding-right: 0.2em;padding-left: 0.2em;position: relative;}#sk-container-id-17 div.sk-item {position: relative;z-index: 1;}#sk-container-id-17 div.sk-parallel {display: flex;align-items: stretch;justify-content: center;background-color: white;position: relative;}#sk-container-id-17 div.sk-item::before, #sk-container-id-17 div.sk-parallel-item::before {content: \"\";position: absolute;border-left: 1px solid gray;box-sizing: border-box;top: 0;bottom: 0;left: 50%;z-index: -1;}#sk-container-id-17 div.sk-parallel-item {display: flex;flex-direction: column;z-index: 1;position: relative;background-color: white;}#sk-container-id-17 div.sk-parallel-item:first-child::after {align-self: flex-end;width: 50%;}#sk-container-id-17 div.sk-parallel-item:last-child::after {align-self: flex-start;width: 50%;}#sk-container-id-17 div.sk-parallel-item:only-child::after {width: 0;}#sk-container-id-17 div.sk-dashed-wrapped {border: 1px dashed gray;margin: 0 0.4em 0.5em 0.4em;box-sizing: border-box;padding-bottom: 0.4em;background-color: white;}#sk-container-id-17 div.sk-label label {font-family: monospace;font-weight: bold;display: inline-block;line-height: 1.2em;}#sk-container-id-17 div.sk-label-container {text-align: center;}#sk-container-id-17 div.sk-container {/* jupyter's `normalize.less` sets `[hidden] { display: none; }` but bootstrap.min.css set `[hidden] { display: none !important; }` so we also need the `!important` here to be able to override the default hidden behavior on the sphinx rendered scikit-learn.org. See: https://github.com/scikit-learn/scikit-learn/issues/21755 */display: inline-block !important;position: relative;}#sk-container-id-17 div.sk-text-repr-fallback {display: none;}</style><div id=\"sk-container-id-17\" class=\"sk-top-container\"><div class=\"sk-text-repr-fallback\"><pre>Ridge(max_iter=1000, random_state=42, solver=&#x27;sag&#x27;)</pre><b>In a Jupyter environment, please rerun this cell to show the HTML representation or trust the notebook. <br />On GitHub, the HTML representation is unable to render, please try loading this page with nbviewer.org.</b></div><div class=\"sk-container\" hidden><div class=\"sk-item\"><div class=\"sk-estimator sk-toggleable\"><input class=\"sk-toggleable__control sk-hidden--visually\" id=\"sk-estimator-id-17\" type=\"checkbox\" checked><label for=\"sk-estimator-id-17\" class=\"sk-toggleable__label sk-toggleable__label-arrow\">Ridge</label><div class=\"sk-toggleable__content\"><pre>Ridge(max_iter=1000, random_state=42, solver=&#x27;sag&#x27;)</pre></div></div></div></div></div>"
      ],
      "text/plain": [
       "Ridge(max_iter=1000, random_state=42, solver='sag')"
      ]
     },
     "execution_count": 168,
     "metadata": {},
     "output_type": "execute_result"
    }
   ],
   "source": [
    "# train model\n",
    "model = Ridge(alpha=1.0, solver = 'sag', random_state = 42, max_iter=1000)\n",
    "model.fit(X_train, y_train)"
   ]
  },
  {
   "cell_type": "code",
   "execution_count": 159,
   "id": "9e7ffe67",
   "metadata": {},
   "outputs": [],
   "source": [
    "#set up validation data\n",
    "X_val_num = df_val[num].values\n",
    "# X_val_num = scaler.transform(X_val_num)\n",
    "\n",
    "X_val_cat = ohe.transform(df_val[cat].values)\n",
    "\n",
    "X_val = np.column_stack([X_val_num, X_val_cat])"
   ]
  },
  {
   "cell_type": "code",
   "execution_count": 162,
   "id": "89fa966b",
   "metadata": {},
   "outputs": [
    {
     "name": "stdout",
     "output_type": "stream",
     "text": [
      "Mean Squared Error: 0.2370558279070917\n",
      "Coefficients: [ 9.11414255e-02  3.35818115e-03  8.42715539e-02 -4.19502863e-03\n",
      "  1.08177513e-02  1.30422042e-02  4.03621784e-03  4.80542276e-02\n",
      "  1.65442186e-02  1.87266582e-02  5.88640943e-02  3.38951093e-03\n",
      " -8.75134502e-03  2.60904882e-02 -9.92389449e-02  1.41583381e-02\n",
      " -1.04672372e-01 -9.70569500e-03  6.34421985e-02 -6.67487175e-02\n",
      " -4.30535528e-02 -2.11395063e-03  7.47510290e-03 -3.38933848e-02\n",
      " -3.60602891e-02  1.97292626e-02 -3.94168384e-02  3.17953902e-02\n",
      "  3.35209218e-02  2.70868306e-02  1.88462805e-02  3.04369807e-02\n",
      "  2.72365282e-02  1.50003258e-02  1.60876113e-02  1.22291915e-03\n",
      " -1.90466277e-02  1.56649568e-02 -1.18092995e-01 -1.21610454e-02\n",
      " -3.75249440e-02  4.40944739e-02  3.37118521e-02  3.81878998e-02\n",
      "  1.80917815e-02 -4.53479896e-03  8.38838371e-03 -2.72769613e-03\n",
      "  7.70943679e-02  2.97808243e-02 -1.19089700e-01  4.06461242e-02\n",
      " -4.36140771e-02  2.34291895e-03 -1.01031536e-02 -4.39730389e-04\n",
      " -1.20816784e-03 -4.46081560e-04 -2.85259827e-03 -8.69430729e-03\n",
      " -4.76782304e-03 -4.76870723e-04 -4.04997256e-04 -1.08816877e-02\n",
      "  2.74200020e-03  4.45098347e-04 -9.32031071e-03 -1.42271592e-02\n",
      " -4.52065175e-03  5.86775969e-03 -5.58073776e-03 -1.41535059e-03\n",
      " -1.01089353e-03  1.08353099e-02  1.22989875e-02 -1.90087504e-02\n",
      "  7.20989378e-04  3.24391109e-04 -3.67641493e-03 -2.31848627e-03\n",
      "  6.56730140e-03  1.98491497e-03  4.03621784e-03 -2.35019561e-03\n",
      " -7.09714977e-04  2.92765887e-03  3.59493114e-04 -3.64839703e-03\n",
      " -6.73028895e-03 -2.12850626e-03 -4.21807935e-03  7.29018033e-04\n",
      "  6.21113154e-03 -3.67292100e-03  3.93647282e-03  1.99971154e-04\n",
      "  1.26571144e-02  2.87438915e-03 -3.07227082e-03  2.00705122e-03\n",
      "  1.63134379e-03 -7.09503866e-03 -2.15919519e-03  1.66395143e-03\n",
      "  1.10638530e-02  1.39866978e-03  1.50055945e-03 -3.15278325e-03\n",
      " -5.32878634e-04 -6.52955821e-04 -3.16357059e-03 -2.11854091e-03\n",
      " -2.73714172e-02  5.39420508e-03  2.48615178e-02  9.28003899e-03\n",
      "  1.77981041e-03  5.75516278e-03  3.95303781e-03 -7.84070617e-03\n",
      " -2.11715255e-02 -1.17604658e-02  2.19712099e-02 -3.86570443e-04\n",
      " -3.28925926e-03 -1.08681655e-02 -8.27239958e-05 -5.04024014e-03\n",
      " -7.80211896e-05  7.30018289e-03  2.48981585e-03  2.10107016e-03\n",
      "  5.87808459e-03  3.94168559e-03  1.36440704e-03 -9.98768741e-04\n",
      " -7.52071879e-06 -2.44761053e-05 -3.91834968e-03 -3.64727859e-03\n",
      " -5.35029380e-03 -5.37670905e-04 -4.64581303e-03 -1.95629409e-03\n",
      " -1.53282378e-02  1.94512323e-03 -1.06391605e-03  4.07367129e-04\n",
      " -5.35158710e-03  3.26961367e-04  1.52141412e-03  6.25231820e-04\n",
      "  1.33622294e-02 -1.32373600e-02  2.40346333e-02 -1.54205327e-03\n",
      " -5.93861700e-03  1.24297597e-03  6.41833332e-04 -4.92899441e-03\n",
      "  1.33543233e-02  2.12721161e-03 -2.78287331e-03  7.20259863e-03\n",
      "  5.28870421e-03  5.61681243e-03  2.00950097e-03 -3.18379738e-03\n",
      "  1.21044545e-03 -5.70825254e-04  3.57308138e-03  2.92361545e-03\n",
      "  9.17075988e-03 -3.85800450e-04 -1.36147305e-03  2.92169147e-03\n",
      "  9.42145264e-03  2.67208160e-03  9.07416471e-04  1.55958303e-02\n",
      " -2.32364692e-02  4.46833194e-03  2.11609018e-02 -1.18527952e-03\n",
      "  1.00040419e-02 -9.23968312e-03 -5.64907240e-03 -4.92106042e-03\n",
      " -1.35980279e-04  2.06957942e-03  1.49559547e-02  1.10996051e-02\n",
      "  2.04484702e-04  1.60879378e-03  7.63278196e-03 -1.70405046e-03\n",
      " -5.89464255e-03 -1.62947908e-03  5.15932287e-03 -4.03779150e-03\n",
      " -3.43831731e-03 -2.94190518e-03 -3.87228734e-02 -7.90362389e-03\n",
      "  6.69792939e-04 -1.56462206e-03  1.25973743e-03  8.38838371e-03\n",
      "  3.17453490e-03  8.08765702e-03  2.31611243e-03 -1.43924826e-03\n",
      "  1.07443249e-02 -2.66336420e-03 -5.58959082e-04 -9.48013438e-04\n",
      "  7.99443760e-04  2.98741207e-03  1.18363962e-03  2.77792376e-03\n",
      " -2.63533215e-03 -2.07462397e-03 -2.07540736e-03 -3.16177395e-03\n",
      " -3.90179078e-03  4.67607691e-03 -2.65822425e-03  1.96542335e-02\n",
      " -2.60063469e-03 -2.58345695e-03  2.64969817e-03 -2.17339575e-02\n",
      " -4.49840607e-03 -2.14794427e-03  1.55051955e-02 -7.29868951e-03\n",
      " -7.56012832e-03  2.78912485e-04  7.00535223e-03  3.21270839e-03\n",
      " -1.98970107e-04 -1.92324472e-04  1.34966079e-02 -1.03961649e-03\n",
      "  1.55714939e-03  1.91500674e-03 -4.62380003e-04  1.92271677e-02\n",
      "  2.38054869e-03 -2.57795419e-02 -2.35031962e-02 -1.16326394e-02\n",
      " -2.57155369e-04 -1.54547891e-02  5.37136535e-05 -4.35930910e-03\n",
      "  1.52954551e-03  5.57008609e-03 -4.67634805e-03 -9.77320534e-03\n",
      "  7.89412790e-03  2.48746733e-02  6.64621450e-04  1.05787784e-03\n",
      "  4.80111637e-03  6.99627888e-04 -2.40652820e-05  1.24088216e-03\n",
      "  7.41204249e-04  9.80499463e-04  1.36467489e-03 -5.52504387e-03\n",
      "  5.19945414e-03 -6.52902395e-03 -9.47383256e-04 -1.63062528e-03\n",
      " -2.85874139e-02 -5.16539511e-04  3.59040419e-03 -1.10381639e-03\n",
      "  8.48314753e-03 -4.56054179e-04 -1.36668263e-03  4.16853320e-04\n",
      " -5.66387833e-03 -1.87644054e-03 -2.70494184e-04 -1.16589768e-03\n",
      " -3.87505449e-03 -3.14054644e-03 -5.82530575e-03 -1.01247083e-02\n",
      "  2.00711986e-03  3.34056400e-04  1.27979699e-02  6.32815191e-03\n",
      "  2.85828151e-02 -4.16509847e-03  6.80004871e-04 -4.17712927e-03\n",
      "  1.48041294e-02  6.18134728e-03  3.23292196e-03  7.48873393e-03\n",
      "  3.33964376e-03  1.78032682e-03  4.08361570e-04 -1.08931921e-02\n",
      " -2.02881148e-03 -7.10630829e-03 -9.40489315e-03  4.60464346e-03\n",
      " -1.38730045e-03 -1.18175648e-04 -1.64827083e-03  4.34129374e-03\n",
      " -6.91377872e-04  3.97464510e-03  4.61731369e-04 -6.55211205e-04\n",
      "  3.38524838e-03  1.75662651e-03  1.53099668e-03 -2.42617444e-03\n",
      " -1.49883539e-02 -8.92113190e-03 -7.10947721e-03 -1.50658843e-04\n",
      " -2.11887725e-03  2.75115297e-03  8.85891785e-04 -1.39075450e-03\n",
      "  5.42189985e-03  8.68035032e-03 -2.67080082e-03  6.52850086e-04\n",
      "  2.87387837e-03  1.46622201e-03  4.57990134e-04  4.95030811e-03\n",
      "  7.94428023e-03  2.48866948e-03  1.23045559e-03  1.10628912e-03\n",
      " -2.13754588e-03 -1.04598420e-03 -5.92564446e-03 -2.75195638e-03\n",
      "  7.29255168e-04  6.51881068e-03  1.32963448e-03  8.56534106e-03\n",
      "  6.54508909e-03  5.32203770e-03  1.87804790e-02  3.22524550e-03\n",
      "  8.01038879e-03 -1.08184123e-03  8.42420388e-03 -6.60022056e-03\n",
      " -6.88163234e-03  1.89276712e-02  1.30358278e-02 -4.85112555e-03\n",
      " -5.86563267e-03 -5.54262497e-04 -4.21829041e-02  1.50460195e-02\n",
      " -1.76464066e-03 -3.28227973e-02 -2.33008984e-04  1.90325698e-02\n",
      "  3.84847337e-04 -1.35393656e-03 -4.45181822e-04  1.54349148e-03\n",
      "  4.23056379e-03  7.98973492e-04  3.14476743e-04 -1.78661707e-04\n",
      " -4.17619534e-03  3.89156871e-03 -5.04453404e-03  1.04752428e-02\n",
      " -4.56535618e-03 -6.06151736e-03  7.72636687e-04 -1.11942480e-03\n",
      " -1.58448750e-03  1.35991445e-02 -3.35196169e-03 -8.05026756e-03\n",
      " -9.02416202e-04  9.09464066e-03  1.39281215e-02  1.13407960e-02\n",
      " -1.94927868e-02 -1.86898291e-03 -1.90289446e-03  1.58580838e-03\n",
      "  1.60070298e-03  2.90880996e-03  3.29357143e-04  3.63928470e-03\n",
      "  4.05559210e-04  7.74712464e-03  2.11963776e-03  1.55674944e-03\n",
      "  8.38075260e-04  8.77595248e-04  1.65657672e-03  4.29966949e-03\n",
      " -7.88854475e-04 -2.11395063e-03  1.30231213e-03 -1.76286847e-03\n",
      " -1.22989197e-04 -1.53062422e-04 -1.65865024e-03  6.47470235e-03\n",
      " -1.02054516e-03 -9.94907797e-04  1.69102919e-03  6.88676830e-03\n",
      " -7.40745002e-04 -4.29365659e-03  1.32486281e-03 -2.58822924e-05\n",
      "  1.51650226e-03  3.79214375e-03 -1.18522446e-03  1.51399463e-02\n",
      "  3.50044479e-04 -3.24603397e-04  3.12572917e-03  1.67005230e-03\n",
      "  1.19846429e-02 -9.27301579e-04 -9.65706116e-03  1.04246093e-06\n",
      "  3.13297939e-03  2.39235201e-03 -4.60761225e-03 -6.97706813e-04\n",
      " -6.55799922e-03 -1.45514274e-03 -2.76466666e-03  5.40275797e-03\n",
      "  4.34832215e-03  4.48721860e-03  1.01382799e-02 -7.07008957e-03\n",
      "  2.25524814e-03  1.80941531e-03 -9.95809433e-03  4.98511451e-03\n",
      "  2.48998839e-03  4.89442121e-03 -2.95784189e-03  3.56008303e-03\n",
      " -2.40018432e-03  3.55641291e-04  1.72415109e-04  3.21682113e-04\n",
      " -4.59096534e-03  2.58230031e-03 -1.46292134e-03  4.55097371e-04\n",
      " -1.37981709e-04  1.45743846e-03  3.52692169e-04  4.19929680e-03\n",
      " -1.71280549e-03  2.37815173e-05 -2.11113902e-04  2.80696762e-03\n",
      " -2.87185620e-03 -9.36622618e-04 -7.89166510e-03  3.57979871e-04\n",
      "  2.41867785e-03  6.61319531e-03  6.40709771e-03  3.59764955e-04\n",
      " -7.84453598e-03  2.17231539e-04 -1.06643423e-02  1.38083311e-03\n",
      "  3.74357848e-04  3.19923729e-03 -7.18357462e-03 -9.04317075e-03\n",
      " -5.69209574e-03 -2.59305851e-04 -7.33402944e-04  4.28854439e-03\n",
      "  1.92299808e-03 -1.04883094e-03  5.89932625e-04  1.51001694e-03\n",
      "  9.52811218e-04  5.22259669e-03 -3.53116122e-03  1.70816883e-03\n",
      "  2.15355927e-04  6.03881098e-04 -3.91370164e-03 -5.31883126e-03\n",
      " -8.54704664e-04  2.29447756e-03  3.06398985e-04 -6.83498034e-03\n",
      " -4.17411117e-03 -1.50243017e-05 -5.28427840e-04  3.87322347e-05\n",
      " -4.93494374e-03 -5.71012150e-03 -1.17437179e-03  4.00121988e-03\n",
      "  2.26117909e-03 -4.20159321e-03 -1.86813692e-02 -1.81717197e-04\n",
      " -1.92514382e-03  7.71352357e-03 -4.67966856e-03 -3.81129635e-03\n",
      "  6.14952581e-03  2.64248636e-03 -8.30328031e-04 -5.96297625e-04\n",
      " -3.12313622e-03  4.34831460e-03  5.00358662e-04 -1.25495749e-03\n",
      "  3.20649294e-03 -2.23844764e-03  6.28691662e-05 -1.65368324e-03\n",
      " -1.52445302e-03 -1.64315905e-03  5.34777219e-04 -2.21219047e-03\n",
      " -1.32765457e-03 -4.18681359e-03  6.49685822e-03  6.71627113e-04\n",
      "  1.02294800e-03  7.43526217e-03 -1.50427705e-03  7.33440029e-03\n",
      " -4.36145990e-03  7.72920511e-04 -5.37679926e-03 -1.38895197e-03\n",
      "  3.46433546e-03 -3.81898310e-03  4.94645902e-04  1.91986566e-03\n",
      " -1.39364911e-03  5.11422893e-03  3.86507337e-03 -9.35822959e-03\n",
      " -8.07375453e-03  2.57318352e-03 -3.49338901e-03  5.13259879e-05\n",
      "  8.84501600e-05  4.63509870e-03  3.18162316e-03 -3.07694070e-04\n",
      " -4.92720791e-03 -2.38094126e-03  5.12751468e-03 -6.16186125e-03\n",
      " -1.40813526e-03  2.97808243e-02 -2.13707962e-03  1.43335467e-02\n",
      "  8.13193845e-04  5.17950553e-03  3.33632116e-03  2.76725712e-02\n",
      "  3.14714827e-03 -2.92559791e-03  1.22526027e-03  8.54714595e-03\n",
      " -1.58905100e-02 -1.10524079e-02  1.19043937e-02 -8.32058200e-04\n",
      " -7.88485400e-04 -3.22709323e-04  3.27820666e-04 -1.00194657e-02\n",
      " -1.23401236e-03  2.89624006e-03  1.21310455e-02 -3.80315471e-03\n",
      " -4.79939122e-03  1.53738699e-03 -2.08897494e-03  2.40397895e-04\n",
      " -2.13985653e-03 -8.42335549e-04 -3.10479642e-03 -3.81776976e-03\n",
      " -6.70412433e-03  3.37360571e-03  2.36021333e-03  6.42286795e-03\n",
      "  5.75067675e-03 -1.85290461e-03 -4.49358344e-03  9.74333817e-03\n",
      " -6.11067815e-03  1.34485929e-02  8.95559118e-03  4.51781571e-03\n",
      "  4.42770867e-03 -5.43902619e-03 -1.09716511e-02 -2.10267658e-04\n",
      "  1.49755667e-03 -9.70531293e-03 -1.20006831e-03 -2.26568248e-04\n",
      " -1.94171113e-03 -1.01149497e-05  3.22757334e-03 -2.90079065e-03\n",
      "  5.86028468e-03  1.57447685e-03  6.57916924e-03  1.38264003e-03\n",
      " -7.87655690e-04  1.41709984e-03  2.79948915e-03 -6.56415194e-03\n",
      " -1.93160308e-04 -1.82384029e-03  2.83109510e-03 -3.56005835e-03\n",
      " -5.26029065e-05  5.69973773e-03 -3.29085625e-03  1.70302009e-03\n",
      "  1.01414369e-03 -1.47357021e-03 -8.99762573e-04  3.84965670e-03\n",
      " -3.33014016e-03  4.63288053e-03  6.87887297e-04  5.66538400e-03\n",
      " -2.18082208e-02 -1.38976602e-02 -3.30436554e-04  3.69314551e-03\n",
      " -7.48993807e-04 -4.08451644e-05 -4.41696075e-04 -1.06163330e-03\n",
      " -7.27958992e-03  5.52000491e-03  4.07390479e-04  2.97827070e-03\n",
      " -1.23766600e-03 -1.27515480e-03  7.00974500e-03  7.99540459e-03\n",
      "  6.19393472e-03 -2.01832622e-03  1.97214848e-03 -6.99971221e-04\n",
      "  2.74345157e-03  9.02538882e-03  4.57857859e-03  6.23982617e-03\n",
      "  4.56650470e-03 -4.74966703e-03 -2.85498693e-03  1.06878144e-02\n",
      "  4.46737028e-03 -1.43015581e-02 -1.96844382e-03 -1.78549901e-02\n",
      "  4.81186748e-03  6.96332062e-03 -2.11134717e-03  1.65484728e-02\n",
      "  4.14537308e-03  5.59818641e-04 -1.66684822e-03 -2.99763951e-03\n",
      " -2.06644814e-03  2.61171600e-03  6.37349776e-03  4.13591587e-03\n",
      " -2.13936836e-03 -9.20968727e-03 -4.49745272e-03 -1.38146675e-02\n",
      " -2.19760743e-03 -8.50959763e-04  3.30453007e-03  4.11629689e-03\n",
      "  3.03867052e-02 -1.55909631e-02 -7.09932389e-04 -5.45785728e-03\n",
      " -5.43531393e-04  5.99058763e-03 -2.69254792e-04 -3.35428506e-04\n",
      "  1.65457577e-03 -3.08518549e-04 -2.37863184e-03 -1.20506049e-03\n",
      "  1.94820100e-04 -1.10122794e-03 -1.61932613e-02 -1.14149815e-03\n",
      "  1.51507456e-03  2.60676082e-05 -4.76827895e-03 -4.21555525e-03\n",
      "  1.06472908e-03 -1.07117367e-03 -4.96046174e-04 -2.15570657e-04\n",
      "  8.30769549e-03  1.90216078e-03  1.19857700e-03  1.07878803e-03\n",
      " -1.65031030e-03 -1.40061499e-03 -1.28552755e-03 -1.86856961e-03\n",
      "  4.20793569e-03  1.47301551e-03 -5.60333404e-03 -7.39996017e-04\n",
      "  2.88444318e-03  5.18235001e-03 -1.01864826e-03 -5.52379969e-03\n",
      " -1.73520089e-03 -6.44746883e-03 -4.22554793e-03 -3.91166826e-03\n",
      "  7.35167045e-03 -7.16444551e-03 -5.11885902e-03 -2.50893725e-03\n",
      " -9.54084055e-03  7.34147303e-03 -4.81991873e-03 -4.23996328e-03\n",
      " -3.65878443e-03 -2.29854285e-02 -1.09838064e-02 -2.92678140e-02\n",
      "  1.09809859e-02 -4.17651200e-04  3.25763798e-03  1.64236707e-03\n",
      " -3.97087319e-03 -5.90766387e-04  1.71647029e-02  8.07537617e-03\n",
      " -4.22902553e-02  1.23104964e-02  3.03070450e-04 -6.23550486e-03\n",
      "  4.34626563e-03 -8.81348851e-03 -1.12202676e-03 -1.02716022e-02\n",
      "  1.26479675e-02 -9.67273543e-03 -3.41920825e-03  1.21202121e-03\n",
      " -6.90245178e-03 -2.70489393e-03  6.42494205e-03 -8.29181213e-04\n",
      " -4.88031653e-03 -7.09145403e-03  3.87219930e-03 -1.34113897e-03\n",
      " -7.93746761e-03  1.39015391e-02 -9.24983497e-03 -3.14710945e-03\n",
      " -4.45374276e-03  4.50996751e-04  1.83152707e-03  1.50356496e-03\n",
      "  2.99993717e-04 -8.27241595e-03  1.95211892e-03 -3.62066559e-03\n",
      "  1.75811877e-03  1.94072700e-03  7.92961778e-04  3.93309707e-04\n",
      " -1.17173189e-02 -5.79779442e-03  8.55681652e-04 -4.16031975e-03\n",
      " -6.68135311e-03  5.15695463e-03 -2.65078704e-03 -2.75631860e-03\n",
      "  6.48156850e-04  7.53197978e-03  8.19577700e-03  1.12312516e-02\n",
      " -1.86539093e-03 -1.63944596e-02 -2.79761439e-03  2.52120113e-03\n",
      "  2.23706035e-03  2.43789559e-03  5.14368023e-03 -7.10669889e-03\n",
      "  1.97208693e-02  1.77089363e-03  8.01809760e-03 -1.04660311e-02\n",
      " -5.43337022e-03 -7.48531837e-03 -8.21322367e-03 -1.95157317e-03\n",
      " -8.65817694e-05  9.44868750e-03  3.98179155e-03  1.01142464e-03\n",
      " -4.33005013e-03 -8.07004691e-02  4.07154709e-04  9.88477591e-03\n",
      "  7.50183410e-03  2.00984958e-03 -8.00698882e-04  7.56270817e-03\n",
      "  4.68177964e-03 -5.00532939e-04  5.15744012e-04  6.03702599e-04\n",
      "  1.47865310e-02  7.39993867e-05 -2.80391673e-04 -3.98687896e-03\n",
      "  3.67263682e-03 -1.96811053e-04 -6.54935266e-03  1.32221312e-02\n",
      "  3.45705538e-03  1.58793250e-03 -4.11073608e-03  4.58501603e-03\n",
      " -6.27561540e-03 -4.15109703e-03  3.38951093e-03  2.34658863e-03\n",
      " -2.05128956e-03 -1.52438656e-02  1.03973710e-03  1.34295228e-02\n",
      "  5.06616346e-03 -4.57783108e-03  2.09413798e-02  3.91658903e-03\n",
      "  8.06617632e-04 -4.18419159e-03 -7.92344712e-04  1.13218267e-03\n",
      "  4.51283257e-05 -1.42345829e-03 -1.91657027e-03 -8.34344264e-04\n",
      " -6.64504544e-04  2.37499572e-03 -7.03319059e-04  7.18982475e-04\n",
      "  2.14432144e-03  1.73561606e-03  5.25161020e-03  1.79549865e-02\n",
      "  9.22994246e-03  9.35553661e-03  3.10875893e-03 -8.12766862e-04\n",
      " -7.79878649e-04 -3.96323391e-04  1.16322241e-04 -4.67263693e-03\n",
      " -6.63433704e-03 -5.77879286e-04 -4.81892824e-03 -1.89297970e-03\n",
      "  1.73229486e-03 -5.47384758e-03  4.62076947e-03  1.15109133e-03\n",
      "  4.69378777e-03  5.81834908e-03  3.78306058e-03  2.61450606e-03\n",
      "  8.43818583e-03 -9.08412361e-04 -1.34403203e-03 -9.16781513e-04\n",
      " -1.19820534e-03 -1.35407271e-03 -2.88203162e-03  3.97354402e-03\n",
      " -1.80286137e-03 -8.25990113e-04  8.07724373e-02  9.84074292e-03\n",
      "  3.28953747e-02 -1.09245138e-01 -1.42634173e-02 -1.73365176e-02\n",
      " -1.44180377e-02 -5.67136082e-02  3.89114176e-02  6.88715630e-03\n",
      " -3.82252987e-02  1.95822123e-01  5.41800666e-03  5.49486263e-02\n",
      " -6.23105427e-02 -9.78943860e-02  4.94080077e-02 -3.74124362e-02\n",
      " -6.11947068e-02 -1.27885694e-02  4.68987656e-02]\n"
     ]
    }
   ],
   "source": [
    "# Make predictions on the test data\n",
    "y_pred = model.predict(X_val)\n",
    "\n",
    "# Calculate the Mean Squared Error (MSE) to evaluate the model's performance\n",
    "mse = mean_squared_error(y_val, y_pred)\n",
    "\n",
    "# Print the MSE and the coefficients of the model\n",
    "print(\"Mean Squared Error:\", mse)\n",
    "# print(\"Coefficients:\", model.coef_)"
   ]
  },
  {
   "cell_type": "code",
   "execution_count": 163,
   "id": "4d3c1fef",
   "metadata": {},
   "outputs": [
    {
     "name": "stderr",
     "output_type": "stream",
     "text": [
      "/home/ubuntu/miniconda3/envs/jupyter_env/lib/python3.11/site-packages/sklearn/linear_model/_sag.py:350: ConvergenceWarning: The max_iter was reached which means the coef_ did not converge\n",
      "  warnings.warn(\n"
     ]
    },
    {
     "name": "stdout",
     "output_type": "stream",
     "text": [
      "Mean Squared Error for alpha= 0  :  0.23703259164685897\n"
     ]
    },
    {
     "name": "stderr",
     "output_type": "stream",
     "text": [
      "/home/ubuntu/miniconda3/envs/jupyter_env/lib/python3.11/site-packages/sklearn/linear_model/_sag.py:350: ConvergenceWarning: The max_iter was reached which means the coef_ did not converge\n",
      "  warnings.warn(\n"
     ]
    },
    {
     "name": "stdout",
     "output_type": "stream",
     "text": [
      "Mean Squared Error for alpha= 0.01  :  0.23703282407406479\n"
     ]
    },
    {
     "name": "stderr",
     "output_type": "stream",
     "text": [
      "/home/ubuntu/miniconda3/envs/jupyter_env/lib/python3.11/site-packages/sklearn/linear_model/_sag.py:350: ConvergenceWarning: The max_iter was reached which means the coef_ did not converge\n",
      "  warnings.warn(\n"
     ]
    },
    {
     "name": "stdout",
     "output_type": "stream",
     "text": [
      "Mean Squared Error for alpha= 0.1  :  0.23703491585123188\n"
     ]
    },
    {
     "name": "stderr",
     "output_type": "stream",
     "text": [
      "/home/ubuntu/miniconda3/envs/jupyter_env/lib/python3.11/site-packages/sklearn/linear_model/_sag.py:350: ConvergenceWarning: The max_iter was reached which means the coef_ did not converge\n",
      "  warnings.warn(\n"
     ]
    },
    {
     "name": "stdout",
     "output_type": "stream",
     "text": [
      "Mean Squared Error for alpha= 1  :  0.2370558279070917\n",
      "Mean Squared Error for alpha= 10  :  0.23726437907108822\n"
     ]
    },
    {
     "name": "stderr",
     "output_type": "stream",
     "text": [
      "/home/ubuntu/miniconda3/envs/jupyter_env/lib/python3.11/site-packages/sklearn/linear_model/_sag.py:350: ConvergenceWarning: The max_iter was reached which means the coef_ did not converge\n",
      "  warnings.warn(\n"
     ]
    }
   ],
   "source": [
    "# This model also has a parameter alpha. Let's try the following values: [0, 0.01, 0.1, 1, 10]\n",
    "\n",
    "for i in [0, 0.01, 0.1, 1, 10]:\n",
    "    model = Ridge(alpha = i, solver = 'sag', random_state = 42, max_iter=1000)\n",
    "    model.fit(X_train, y_train)\n",
    "    \n",
    "    y_pred = model.predict(X_val)\n",
    "    print(\"Mean Squared Error for alpha=\",i, \" : \",mean_squared_error(y_val, y_pred))"
   ]
  }
 ],
 "metadata": {
  "kernelspec": {
   "display_name": "Python 3 (ipykernel)",
   "language": "python",
   "name": "python3"
  },
  "language_info": {
   "codemirror_mode": {
    "name": "ipython",
    "version": 3
   },
   "file_extension": ".py",
   "mimetype": "text/x-python",
   "name": "python",
   "nbconvert_exporter": "python",
   "pygments_lexer": "ipython3",
   "version": "3.11.5"
  }
 },
 "nbformat": 4,
 "nbformat_minor": 5
}
